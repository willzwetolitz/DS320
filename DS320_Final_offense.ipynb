{
  "nbformat": 4,
  "nbformat_minor": 0,
  "metadata": {
    "colab": {
      "provenance": []
    },
    "kernelspec": {
      "name": "python3",
      "display_name": "Python 3"
    },
    "language_info": {
      "name": "python"
    }
  },
  "cells": [
    {
      "cell_type": "markdown",
      "source": [
        "# DS 320 Final Project - Thomas"
      ],
      "metadata": {
        "id": "tlO9LCOD2fa6"
      }
    },
    {
      "cell_type": "code",
      "execution_count": 1,
      "metadata": {
        "id": "SAn_iXgg2dIQ"
      },
      "outputs": [],
      "source": [
        "import pandas as pd\n",
        "import numpy as np\n",
        "from sklearn.ensemble import RandomForestClassifier\n",
        "from sklearn.model_selection import train_test_split \n",
        "from sklearn.metrics import accuracy_score\n",
        "from tabulate import tabulate\n",
        "from sklearn import metrics\n"
      ]
    },
    {
      "cell_type": "code",
      "source": [
        "from google.colab import drive\n",
        "\n",
        "drive.mount('/content/gdrive/', force_remount=True)\n"
      ],
      "metadata": {
        "colab": {
          "base_uri": "https://localhost:8080/"
        },
        "id": "aiHuBquc4Hlh",
        "outputId": "bbf51390-6c9f-4e99-8fbf-a03e263c9a8f"
      },
      "execution_count": 2,
      "outputs": [
        {
          "output_type": "stream",
          "name": "stdout",
          "text": [
            "Mounted at /content/gdrive/\n"
          ]
        }
      ]
    },
    {
      "cell_type": "code",
      "source": [
        "plays = pd.read_csv('/content/gdrive/MyDrive/plays.csv')\n",
        "week1 = pd.read_csv('/content/gdrive/MyDrive/week1.csv')"
      ],
      "metadata": {
        "id": "ybRTVATA4Kaj"
      },
      "execution_count": 3,
      "outputs": []
    },
    {
      "cell_type": "code",
      "source": [
        "week2 = pd.read_csv('/content/gdrive/MyDrive/football/week2.csv')\n",
        "week3 = pd.read_csv('/content/gdrive/MyDrive/football/week3.csv')"
      ],
      "metadata": {
        "id": "4QFjnALb4dsG"
      },
      "execution_count": 4,
      "outputs": []
    },
    {
      "cell_type": "code",
      "source": [
        "week4 = pd.read_csv('/content/gdrive/MyDrive/football/week4.csv')\n",
        "week5 = pd.read_csv('/content/gdrive/MyDrive/football/week5.csv')"
      ],
      "metadata": {
        "id": "OKiocgQU8Heu"
      },
      "execution_count": 5,
      "outputs": []
    },
    {
      "cell_type": "code",
      "source": [
        "week6 = pd.read_csv('/content/gdrive/MyDrive/football/week6.csv')\n",
        "week7 = pd.read_csv('/content/gdrive/MyDrive/football/week7.csv')"
      ],
      "metadata": {
        "id": "8ybw72m38I4o"
      },
      "execution_count": 6,
      "outputs": []
    },
    {
      "cell_type": "code",
      "source": [
        "week8 = pd.read_csv('/content/gdrive/MyDrive/football/week8.csv')\n",
        "week9 = pd.read_csv('/content/gdrive/MyDrive/football/week9.csv')"
      ],
      "metadata": {
        "id": "p7l1Qsa68LOp"
      },
      "execution_count": 7,
      "outputs": []
    },
    {
      "cell_type": "code",
      "source": [
        "week10 = pd.read_csv('/content/gdrive/MyDrive/football/week10.csv')\n",
        "week11 = pd.read_csv('/content/gdrive/MyDrive/football/week11.csv')"
      ],
      "metadata": {
        "id": "_qn4P6h_8Mlr"
      },
      "execution_count": 8,
      "outputs": []
    },
    {
      "cell_type": "code",
      "source": [
        "week12 = pd.read_csv('/content/gdrive/MyDrive/football/week12.csv')\n",
        "week13 = pd.read_csv('/content/gdrive/MyDrive/football/week13.csv')"
      ],
      "metadata": {
        "id": "ZTrQs7uK8N2M"
      },
      "execution_count": 9,
      "outputs": []
    },
    {
      "cell_type": "code",
      "source": [
        "week14 = pd.read_csv('/content/gdrive/MyDrive/football/week14.csv')\n",
        "week15 = pd.read_csv('/content/gdrive/MyDrive/football/week15.csv')"
      ],
      "metadata": {
        "id": "eSJPx7Km8PWU"
      },
      "execution_count": 10,
      "outputs": []
    },
    {
      "cell_type": "code",
      "source": [
        "week16 = pd.read_csv('/content/gdrive/MyDrive/football/week16.csv')\n",
        "week17 = pd.read_csv('/content/gdrive/MyDrive/football/week17.csv')"
      ],
      "metadata": {
        "id": "PGPvmw7h8Q6k"
      },
      "execution_count": 11,
      "outputs": []
    },
    {
      "cell_type": "code",
      "source": [
        "players = pd.read_csv('/content/gdrive/MyDrive/players.csv')"
      ],
      "metadata": {
        "id": "YqGvBgKehOkX"
      },
      "execution_count": 12,
      "outputs": []
    },
    {
      "cell_type": "code",
      "source": [
        "df = plays.copy()\n",
        "passes = df[df['playDescription'].str.contains(\" pass \", case=False, na=False)]\n",
        "passes.shape[0]"
      ],
      "metadata": {
        "colab": {
          "base_uri": "https://localhost:8080/"
        },
        "id": "kNAE0WSHspnG",
        "outputId": "d38d658e-a4f4-43f6-e479-3b8439174b50"
      },
      "execution_count": 13,
      "outputs": [
        {
          "output_type": "execute_result",
          "data": {
            "text/plain": [
              "17851"
            ]
          },
          "metadata": {},
          "execution_count": 13
        }
      ]
    },
    {
      "cell_type": "code",
      "source": [
        "words = \"INTERCEPTED|PENALTY|FUMBLES|SACKED|INCOMPLETE\"\n",
        "passes[\"binaryPassResult\"] = np.where(passes[\"playDescription\"].str.contains(words, case=False, na=False), 0, 1)"
      ],
      "metadata": {
        "colab": {
          "base_uri": "https://localhost:8080/"
        },
        "id": "UDqe6ARwrDHK",
        "outputId": "34264743-7cbd-4181-9532-4ac97ae24b74"
      },
      "execution_count": 14,
      "outputs": [
        {
          "output_type": "stream",
          "name": "stderr",
          "text": [
            "<ipython-input-14-13eddcecc171>:2: SettingWithCopyWarning: \n",
            "A value is trying to be set on a copy of a slice from a DataFrame.\n",
            "Try using .loc[row_indexer,col_indexer] = value instead\n",
            "\n",
            "See the caveats in the documentation: https://pandas.pydata.org/pandas-docs/stable/user_guide/indexing.html#returning-a-view-versus-a-copy\n",
            "  passes[\"binaryPassResult\"] = np.where(passes[\"playDescription\"].str.contains(words, case=False, na=False), 0, 1)\n"
          ]
        }
      ]
    },
    {
      "cell_type": "code",
      "source": [
        "short = passes[passes['playDescription'].str.contains(\"short\", case=False, na=False)]\n",
        "deep = passes[passes['playDescription'].str.contains(\"deep\", case=False, na=False)]"
      ],
      "metadata": {
        "id": "Bn_hzJclrPX1"
      },
      "execution_count": 15,
      "outputs": []
    },
    {
      "cell_type": "code",
      "source": [
        "df = pd.concat([week1, week2, week3, week4, week5, week6, week7, week8, week9, week10, week11, week12, week13, week14, week15, week16, week17])"
      ],
      "metadata": {
        "id": "raWIWi5s8_id"
      },
      "execution_count": 16,
      "outputs": []
    },
    {
      "cell_type": "code",
      "source": [
        "df = df[df[\"position\"] == \"WR\"] "
      ],
      "metadata": {
        "id": "N5HR-XI193L8"
      },
      "execution_count": 17,
      "outputs": []
    },
    {
      "cell_type": "code",
      "source": [
        "df = df[df['event'] == 'pass_arrived']"
      ],
      "metadata": {
        "id": "Wjc2_pY5-XXT"
      },
      "execution_count": 18,
      "outputs": []
    },
    {
      "cell_type": "code",
      "source": [
        "df = df[['a', 's', 'dis','gameId', 'playId', 'nflId']]"
      ],
      "metadata": {
        "id": "eDGRvo1QBvcK"
      },
      "execution_count": 19,
      "outputs": []
    },
    {
      "cell_type": "code",
      "source": [
        "df = df.merge(players, how = \"left\")"
      ],
      "metadata": {
        "id": "mIyEodU6hqxL"
      },
      "execution_count": 20,
      "outputs": []
    },
    {
      "cell_type": "code",
      "source": [
        "df = df[['a', 's', 'dis','gameId', 'playId', 'displayName']]"
      ],
      "metadata": {
        "id": "2sVZ3ixFh58x"
      },
      "execution_count": 21,
      "outputs": []
    },
    {
      "cell_type": "code",
      "source": [
        "short = short[['gameId', 'playId', 'passResult', 'absoluteYardlineNumber','yardsToGo', 'down', 'quarter', 'playDescription']]"
      ],
      "metadata": {
        "id": "QtL0jJy5CUPm"
      },
      "execution_count": 22,
      "outputs": []
    },
    {
      "cell_type": "code",
      "source": [
        "deep = deep[['gameId', 'playId', 'passResult', 'absoluteYardlineNumber','yardsToGo', 'down', 'quarter', 'playDescription']]"
      ],
      "metadata": {
        "id": "HBXYRI00C65y"
      },
      "execution_count": 23,
      "outputs": []
    },
    {
      "cell_type": "code",
      "source": [
        "df_long = df.merge(deep, how = \"inner\")"
      ],
      "metadata": {
        "id": "_AMI-X4wC-Pw"
      },
      "execution_count": 24,
      "outputs": []
    },
    {
      "cell_type": "code",
      "source": [
        "df_short = df.merge(short, how = \"inner\")"
      ],
      "metadata": {
        "id": "GK-M4OPHDaXO"
      },
      "execution_count": 25,
      "outputs": []
    },
    {
      "cell_type": "code",
      "source": [
        "df_short[['first', 'last']] = df_short['displayName'].str.split(' ', 1, expand=True)"
      ],
      "metadata": {
        "id": "4TNIrb9qlceA"
      },
      "execution_count": 26,
      "outputs": []
    },
    {
      "cell_type": "code",
      "source": [
        "df_long[['first', 'last']] = df_long['displayName'].str.split(' ', 1, expand=True)"
      ],
      "metadata": {
        "id": "zWNHh14Gle9m"
      },
      "execution_count": 27,
      "outputs": []
    },
    {
      "cell_type": "code",
      "source": [
        "df_short = df_short.dropna()\n",
        "df_long = df_long.dropna()"
      ],
      "metadata": {
        "id": "PMcCuIacfMeo"
      },
      "execution_count": 28,
      "outputs": []
    },
    {
      "cell_type": "code",
      "source": [
        "df_short = df_short[df_short.apply(lambda x: x['last'] in x['playDescription'], axis = 1)]"
      ],
      "metadata": {
        "id": "f-Us6Q1Hm_RO"
      },
      "execution_count": 29,
      "outputs": []
    },
    {
      "cell_type": "code",
      "source": [
        "df_long = df_long[df_long.apply(lambda x: x['last'] in x['playDescription'], axis = 1)]"
      ],
      "metadata": {
        "id": "boOj6IFmjGe-"
      },
      "execution_count": 30,
      "outputs": []
    },
    {
      "cell_type": "code",
      "source": [
        "df_short['binaryPassResult'] = [0 if x == 'I' else 1 for x in df_short[\"passResult\"]]\n",
        "df_long['binaryPassResult'] = [0 if x == 'I' else 1 for x in df_long[\"passResult\"]]"
      ],
      "metadata": {
        "id": "tXhTsqeNOHlt"
      },
      "execution_count": 31,
      "outputs": []
    },
    {
      "cell_type": "code",
      "source": [
        "df_long = df_long[['a', 's', 'dis','binaryPassResult', 'absoluteYardlineNumber','yardsToGo', 'down', 'quarter']]\n",
        "df_short = df_short[['a', 's', 'dis','binaryPassResult', 'absoluteYardlineNumber','yardsToGo', 'down', 'quarter']]"
      ],
      "metadata": {
        "id": "qlep5wDhp1rc"
      },
      "execution_count": 32,
      "outputs": []
    },
    {
      "cell_type": "code",
      "source": [
        "X = df_short[['a', 's', 'dis', 'absoluteYardlineNumber','yardsToGo', 'down', 'quarter']]\n",
        "y = df_short['binaryPassResult']\n",
        "\n",
        "X_train, X_test, y_train, y_test = train_test_split(X, y, test_size=0.3)"
      ],
      "metadata": {
        "id": "NgirDRubDtp-"
      },
      "execution_count": 33,
      "outputs": []
    },
    {
      "cell_type": "code",
      "source": [
        "short_clf=RandomForestClassifier(n_estimators=100)\n",
        "\n",
        "short_clf.fit(X_train,y_train)\n",
        "y_pred=short_clf.predict(X_test)\n"
      ],
      "metadata": {
        "id": "9SqYOySmD5D7"
      },
      "execution_count": 34,
      "outputs": []
    },
    {
      "cell_type": "code",
      "source": [
        "rfc_short_acc = metrics.accuracy_score(y_test, y_pred)\n",
        "\n",
        "print(\"Model accuracy on short passes:\",metrics.accuracy_score(y_test, y_pred))\n",
        "print(\"Model auc on short passes:\",metrics.roc_auc_score(y_test, y_pred))\n",
        "print(\"Model rmse on short passes\",metrics.mean_squared_error(y_test, y_pred))"
      ],
      "metadata": {
        "colab": {
          "base_uri": "https://localhost:8080/"
        },
        "id": "01QzN6wuDxzE",
        "outputId": "09f8338c-5d3b-4944-8075-bae7191db5c9"
      },
      "execution_count": 35,
      "outputs": [
        {
          "output_type": "stream",
          "name": "stdout",
          "text": [
            "Model accuracy on short passes: 0.8185443668993021\n",
            "Model auc on short passes: 0.5131447867428822\n",
            "Model rmse on short passes 0.1814556331006979\n"
          ]
        }
      ]
    },
    {
      "cell_type": "code",
      "source": [
        "metrics.confusion_matrix(y_test, y_pred)"
      ],
      "metadata": {
        "colab": {
          "base_uri": "https://localhost:8080/"
        },
        "id": "wgCmNb1cQXIA",
        "outputId": "86bf0264-e679-4791-a17a-4b679334a9d7"
      },
      "execution_count": 36,
      "outputs": [
        {
          "output_type": "execute_result",
          "data": {
            "text/plain": [
              "array([[  15,  337],\n",
              "       [  27, 1627]])"
            ]
          },
          "metadata": {},
          "execution_count": 36
        }
      ]
    },
    {
      "cell_type": "code",
      "source": [
        "X = df_long[['a', 's', 'dis', 'absoluteYardlineNumber','yardsToGo', 'down', 'quarter']]\n",
        "y = df_long['binaryPassResult']\n",
        "\n",
        "X_train, X_test, y_train, y_test = train_test_split(X, y, test_size=0.3)"
      ],
      "metadata": {
        "id": "KIYYsk_2EoeI"
      },
      "execution_count": 37,
      "outputs": []
    },
    {
      "cell_type": "code",
      "source": [
        "long_clf=RandomForestClassifier(n_estimators=100)\n",
        "\n",
        "long_clf.fit(X_train,y_train)\n",
        "y_pred=long_clf.predict(X_test)"
      ],
      "metadata": {
        "id": "NLzEYddEE0pM"
      },
      "execution_count": 38,
      "outputs": []
    },
    {
      "cell_type": "code",
      "source": [
        "rfc_deep_acc = metrics.accuracy_score(y_test, y_pred)\n",
        "\n",
        "print(\"Model accuracy on long passes:\",metrics.accuracy_score(y_test, y_pred))\n",
        "print(\"Model auc on short passes:\",metrics.roc_auc_score(y_test, y_pred))\n",
        "print(\"Model rmse on short passes\",metrics.mean_squared_error(y_test, y_pred))"
      ],
      "metadata": {
        "colab": {
          "base_uri": "https://localhost:8080/"
        },
        "id": "3zuJUPk5E5x-",
        "outputId": "2e39665b-e473-4bb1-d9a9-ecbc5094d88f"
      },
      "execution_count": 39,
      "outputs": [
        {
          "output_type": "stream",
          "name": "stdout",
          "text": [
            "Model accuracy on long passes: 0.6350093109869647\n",
            "Model auc on short passes: 0.5230392156862745\n",
            "Model rmse on short passes 0.3649906890130354\n"
          ]
        }
      ]
    },
    {
      "cell_type": "code",
      "source": [
        "from xgboost import XGBClassifier\n",
        "\n",
        "X = df_short[['a', 's', 'dis', 'absoluteYardlineNumber','yardsToGo', 'down', 'quarter']]\n",
        "y = df_short['binaryPassResult']\n",
        "\n",
        "X_train, X_test, y_train, y_test = train_test_split(X, y, test_size=0.3, random_state = 7)"
      ],
      "metadata": {
        "id": "CjTi3KftLidl"
      },
      "execution_count": 40,
      "outputs": []
    },
    {
      "cell_type": "code",
      "source": [
        "modelXGB = XGBClassifier(objective = 'binary:logistic', max_depth = 6, learning_rate = 0.03, n_estimators = 1000)\n",
        "modelXGB.fit(X_train, y_train)"
      ],
      "metadata": {
        "colab": {
          "base_uri": "https://localhost:8080/"
        },
        "id": "zi-oKJY_L35k",
        "outputId": "b6c3d6de-92a2-41ce-eb55-da1e797eec92"
      },
      "execution_count": 41,
      "outputs": [
        {
          "output_type": "execute_result",
          "data": {
            "text/plain": [
              "XGBClassifier(learning_rate=0.03, max_depth=6, n_estimators=1000)"
            ]
          },
          "metadata": {},
          "execution_count": 41
        }
      ]
    },
    {
      "cell_type": "code",
      "source": [
        "y_pred = modelXGB.predict(X_test)\n",
        "preds = [round(value) for value in y_pred]\n",
        "\n",
        "accuracy_short = metrics.accuracy_score(y_test, preds)\n",
        "print(\"Model accuracy on short passes:\",metrics.accuracy_score(y_test, y_pred))\n",
        "print(\"Model auc on short passes:\",metrics.roc_auc_score(y_test, y_pred))\n",
        "print(\"Model rmse on short passes\",metrics.mean_squared_error(y_test, y_pred))"
      ],
      "metadata": {
        "colab": {
          "base_uri": "https://localhost:8080/"
        },
        "id": "fz4y5QpUL5Dh",
        "outputId": "09b404e0-e7b6-4e57-a566-3e4dbf5a736f"
      },
      "execution_count": 42,
      "outputs": [
        {
          "output_type": "stream",
          "name": "stdout",
          "text": [
            "Model accuracy on short passes: 0.8095712861415753\n",
            "Model auc on short passes: 0.5141504937010555\n",
            "Model rmse on short passes 0.19042871385842472\n"
          ]
        }
      ]
    },
    {
      "cell_type": "code",
      "source": [
        "metrics.confusion_matrix(y_test, y_pred)"
      ],
      "metadata": {
        "colab": {
          "base_uri": "https://localhost:8080/"
        },
        "id": "l8rFYEBpcpC-",
        "outputId": "2c0bb96a-cc65-4bab-8178-49262da2c134"
      },
      "execution_count": 43,
      "outputs": [
        {
          "output_type": "execute_result",
          "data": {
            "text/plain": [
              "array([[  20,  336],\n",
              "       [  46, 1604]])"
            ]
          },
          "metadata": {},
          "execution_count": 43
        }
      ]
    },
    {
      "cell_type": "code",
      "source": [
        "\n",
        "X = df_long[['a', 's', 'dis', 'absoluteYardlineNumber','yardsToGo', 'down', 'quarter']]\n",
        "y = df_long['binaryPassResult']\n",
        "\n",
        "X_train, X_test, y_train, y_test = train_test_split(X, y, test_size=0.2, random_state = 7)"
      ],
      "metadata": {
        "id": "rRVhBFDbMTkR"
      },
      "execution_count": 44,
      "outputs": []
    },
    {
      "cell_type": "code",
      "source": [
        "model = XGBClassifier(objective = \"binary:logistic\", max_depth = 7, learning_rate = 0.05, n_estimators=10000 )\n",
        "model.fit(X_train, y_train)"
      ],
      "metadata": {
        "colab": {
          "base_uri": "https://localhost:8080/"
        },
        "id": "jKHH7oiAMakC",
        "outputId": "45163285-3cfd-4b87-ef46-84a614c98608"
      },
      "execution_count": 45,
      "outputs": [
        {
          "output_type": "execute_result",
          "data": {
            "text/plain": [
              "XGBClassifier(learning_rate=0.05, max_depth=7, n_estimators=10000)"
            ]
          },
          "metadata": {},
          "execution_count": 45
        }
      ]
    },
    {
      "cell_type": "code",
      "source": [
        "y_pred = model.predict(X_test)\n",
        "\n",
        "accuracy_deep = metrics.accuracy_score(y_test, y_pred)\n",
        "print(\"Model accuracy on long passes:\",metrics.accuracy_score(y_test, y_pred))\n",
        "print(\"Model auc on short passes:\",metrics.roc_auc_score(y_test, y_pred))\n",
        "print(\"Model rmse on short passes\",metrics.mean_squared_error(y_test, y_pred))"
      ],
      "metadata": {
        "colab": {
          "base_uri": "https://localhost:8080/"
        },
        "id": "0exX38leMc4P",
        "outputId": "161f6256-021d-42ae-ea0c-61f5e8267d7c"
      },
      "execution_count": 46,
      "outputs": [
        {
          "output_type": "stream",
          "name": "stdout",
          "text": [
            "Model accuracy on long passes: 0.611731843575419\n",
            "Model auc on short passes: 0.5193382792447523\n",
            "Model rmse on short passes 0.388268156424581\n"
          ]
        }
      ]
    },
    {
      "cell_type": "code",
      "source": [
        "metrics.confusion_matrix(y_test, y_pred)"
      ],
      "metadata": {
        "colab": {
          "base_uri": "https://localhost:8080/"
        },
        "id": "WBI43SsibXIU",
        "outputId": "89f89ffc-4b12-48ac-de85-928d1810c2d7"
      },
      "execution_count": 47,
      "outputs": [
        {
          "output_type": "execute_result",
          "data": {
            "text/plain": [
              "array([[ 29,  90],\n",
              "       [ 49, 190]])"
            ]
          },
          "metadata": {},
          "execution_count": 47
        }
      ]
    },
    {
      "cell_type": "code",
      "source": [
        "accuracy_data = [[\"Random Forest Classifier\", rfc_short_acc, rfc_deep_acc], [\"XGBoost\", accuracy_short, accuracy_deep]]\n",
        "\n",
        "col_names = [\"Model\", \"Short Passes\", \"Long Passes\"]\n",
        "\n",
        "print(tabulate(accuracy_data, headers=col_names))\n"
      ],
      "metadata": {
        "colab": {
          "base_uri": "https://localhost:8080/"
        },
        "id": "6OTp7FqKMjwl",
        "outputId": "dc58cffd-bc63-4b7b-b758-4090c7298b1a"
      },
      "execution_count": 48,
      "outputs": [
        {
          "output_type": "stream",
          "name": "stdout",
          "text": [
            "Model                       Short Passes    Long Passes\n",
            "------------------------  --------------  -------------\n",
            "Random Forest Classifier        0.818544       0.635009\n",
            "XGBoost                         0.809571       0.611732\n"
          ]
        }
      ]
    }
  ]
}