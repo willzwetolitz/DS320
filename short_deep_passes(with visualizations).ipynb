{
  "cells": [
    {
      "cell_type": "markdown",
      "metadata": {
        "id": "tT8MTUs56l5B"
      },
      "source": [
        "Predicting Pass Result on Short vs Long Passes From Defensive Formation"
      ]
    },
    {
      "cell_type": "markdown",
      "metadata": {
        "id": "Ryurm6oY6l5E"
      },
      "source": [
        "Research Question 1:\n",
        "\n",
        "How well can a defensive formation predict the outcome of a pass? \n",
        "Does short vs deep pass plays affect our ability to predict the outcome?"
      ]
    },
    {
      "cell_type": "code",
      "execution_count": 50,
      "metadata": {
        "id": "FMmlCaYE6l5F"
      },
      "outputs": [],
      "source": [
        "import pandas as pd\n",
        "from sklearn.ensemble import RandomForestClassifier\n",
        "from sklearn.model_selection import train_test_split \n",
        "from sklearn.metrics import accuracy_score\n",
        "from tabulate import tabulate\n",
        "from sklearn import metrics\n",
        "import matplotlib.pyplot as plt\n",
        "import numpy as np"
      ]
    },
    {
      "cell_type": "code",
      "execution_count": 25,
      "metadata": {
        "colab": {
          "base_uri": "https://localhost:8080/",
          "height": 804
        },
        "id": "2hEz7BdQ6l5G",
        "outputId": "911b9b64-8d2d-4769-e3ad-7f45da062740"
      },
      "outputs": [
        {
          "output_type": "execute_result",
          "data": {
            "text/plain": [
              "       gameId  playId                                    playDescription  \\\n",
              "0  2018090600      75  (15:00) M.Ryan pass short right to J.Jones pus...   \n",
              "1  2018090600     146  (13:10) M.Ryan pass incomplete short right to ...   \n",
              "2  2018090600     168  (13:05) (Shotgun) M.Ryan pass incomplete short...   \n",
              "3  2018090600     190  (13:01) (Shotgun) M.Ryan pass deep left to J.J...   \n",
              "4  2018090600     256  (10:59) (Shotgun) M.Ryan pass incomplete short...   \n",
              "5  2018090600     320  (10:10) (Shotgun) N.Foles pass short left to N...   \n",
              "6  2018090600     344  (9:24) (Shotgun) N.Foles pass incomplete short...   \n",
              "7  2018090600     402  (9:08) M.Ryan pass incomplete deep left to M.S...   \n",
              "8  2018090600     492  (7:01) M.Ryan pass short left to T.Coleman pus...   \n",
              "9  2018090600     521  (6:19) M.Ryan pass short left to A.Hooper to P...   \n",
              "\n",
              "   quarter  down  yardsToGo possessionTeam        playType yardlineSide  \\\n",
              "0        1     1         15            ATL  play_type_pass          ATL   \n",
              "1        1     1         10            ATL  play_type_pass          PHI   \n",
              "2        1     2         10            ATL  play_type_pass          PHI   \n",
              "3        1     3         10            ATL  play_type_pass          PHI   \n",
              "4        1     3          1            ATL  play_type_pass          PHI   \n",
              "5        1     2          8            PHI  play_type_pass          PHI   \n",
              "6        1     3          4            PHI  play_type_pass          PHI   \n",
              "7        1     1         10            ATL  play_type_pass          PHI   \n",
              "8        1     2         13            ATL  play_type_pass          PHI   \n",
              "9        1     1         10            ATL  play_type_pass          PHI   \n",
              "\n",
              "   yardlineNumber  ... preSnapHomeScore gameClock  absoluteYardlineNumber  \\\n",
              "0              20  ...              0.0  15:00:00                    90.0   \n",
              "1              39  ...              0.0  13:10:00                    49.0   \n",
              "2              39  ...              0.0  13:05:00                    49.0   \n",
              "3              39  ...              0.0  13:01:00                    49.0   \n",
              "4               1  ...              0.0  10:59:00                    11.0   \n",
              "5               4  ...              0.0  10:10:00                    14.0   \n",
              "6               8  ...              0.0  09:24:00                    18.0   \n",
              "7              44  ...              0.0  09:08:00                    54.0   \n",
              "8              36  ...              0.0  07:01:00                    46.0   \n",
              "9              10  ...              0.0  06:19:00                    20.0   \n",
              "\n",
              "   penaltyCodes penaltyJerseyNumbers passResult  offensePlayResult  \\\n",
              "0           NaN                  NaN          C                 10   \n",
              "1           NaN                  NaN          I                  0   \n",
              "2           NaN                  NaN          I                  0   \n",
              "3           NaN                  NaN          C                 33   \n",
              "4           NaN                  NaN          I                  0   \n",
              "5           NaN                  NaN          C                  4   \n",
              "6           NaN                  NaN          I                  0   \n",
              "7           NaN                  NaN          I                  0   \n",
              "8           NaN                  NaN          C                 26   \n",
              "9           NaN                  NaN          C                  3   \n",
              "\n",
              "   playResult       epa  isDefensivePI  \n",
              "0          10  0.261827          False  \n",
              "1           0 -0.372360          False  \n",
              "2           0 -0.702779          False  \n",
              "3          33  3.047530          False  \n",
              "4           0 -0.842272          False  \n",
              "5           4 -0.344096          False  \n",
              "6           0 -1.192208          False  \n",
              "7           0 -0.429863          False  \n",
              "8          26  1.879804          False  \n",
              "9           3  0.045665          False  \n",
              "\n",
              "[10 rows x 27 columns]"
            ],
            "text/html": [
              "\n",
              "  <div id=\"df-f86f77e9-3e70-4ec4-88d2-b40eae420f73\">\n",
              "    <div class=\"colab-df-container\">\n",
              "      <div>\n",
              "<style scoped>\n",
              "    .dataframe tbody tr th:only-of-type {\n",
              "        vertical-align: middle;\n",
              "    }\n",
              "\n",
              "    .dataframe tbody tr th {\n",
              "        vertical-align: top;\n",
              "    }\n",
              "\n",
              "    .dataframe thead th {\n",
              "        text-align: right;\n",
              "    }\n",
              "</style>\n",
              "<table border=\"1\" class=\"dataframe\">\n",
              "  <thead>\n",
              "    <tr style=\"text-align: right;\">\n",
              "      <th></th>\n",
              "      <th>gameId</th>\n",
              "      <th>playId</th>\n",
              "      <th>playDescription</th>\n",
              "      <th>quarter</th>\n",
              "      <th>down</th>\n",
              "      <th>yardsToGo</th>\n",
              "      <th>possessionTeam</th>\n",
              "      <th>playType</th>\n",
              "      <th>yardlineSide</th>\n",
              "      <th>yardlineNumber</th>\n",
              "      <th>...</th>\n",
              "      <th>preSnapHomeScore</th>\n",
              "      <th>gameClock</th>\n",
              "      <th>absoluteYardlineNumber</th>\n",
              "      <th>penaltyCodes</th>\n",
              "      <th>penaltyJerseyNumbers</th>\n",
              "      <th>passResult</th>\n",
              "      <th>offensePlayResult</th>\n",
              "      <th>playResult</th>\n",
              "      <th>epa</th>\n",
              "      <th>isDefensivePI</th>\n",
              "    </tr>\n",
              "  </thead>\n",
              "  <tbody>\n",
              "    <tr>\n",
              "      <th>0</th>\n",
              "      <td>2018090600</td>\n",
              "      <td>75</td>\n",
              "      <td>(15:00) M.Ryan pass short right to J.Jones pus...</td>\n",
              "      <td>1</td>\n",
              "      <td>1</td>\n",
              "      <td>15</td>\n",
              "      <td>ATL</td>\n",
              "      <td>play_type_pass</td>\n",
              "      <td>ATL</td>\n",
              "      <td>20</td>\n",
              "      <td>...</td>\n",
              "      <td>0.0</td>\n",
              "      <td>15:00:00</td>\n",
              "      <td>90.0</td>\n",
              "      <td>NaN</td>\n",
              "      <td>NaN</td>\n",
              "      <td>C</td>\n",
              "      <td>10</td>\n",
              "      <td>10</td>\n",
              "      <td>0.261827</td>\n",
              "      <td>False</td>\n",
              "    </tr>\n",
              "    <tr>\n",
              "      <th>1</th>\n",
              "      <td>2018090600</td>\n",
              "      <td>146</td>\n",
              "      <td>(13:10) M.Ryan pass incomplete short right to ...</td>\n",
              "      <td>1</td>\n",
              "      <td>1</td>\n",
              "      <td>10</td>\n",
              "      <td>ATL</td>\n",
              "      <td>play_type_pass</td>\n",
              "      <td>PHI</td>\n",
              "      <td>39</td>\n",
              "      <td>...</td>\n",
              "      <td>0.0</td>\n",
              "      <td>13:10:00</td>\n",
              "      <td>49.0</td>\n",
              "      <td>NaN</td>\n",
              "      <td>NaN</td>\n",
              "      <td>I</td>\n",
              "      <td>0</td>\n",
              "      <td>0</td>\n",
              "      <td>-0.372360</td>\n",
              "      <td>False</td>\n",
              "    </tr>\n",
              "    <tr>\n",
              "      <th>2</th>\n",
              "      <td>2018090600</td>\n",
              "      <td>168</td>\n",
              "      <td>(13:05) (Shotgun) M.Ryan pass incomplete short...</td>\n",
              "      <td>1</td>\n",
              "      <td>2</td>\n",
              "      <td>10</td>\n",
              "      <td>ATL</td>\n",
              "      <td>play_type_pass</td>\n",
              "      <td>PHI</td>\n",
              "      <td>39</td>\n",
              "      <td>...</td>\n",
              "      <td>0.0</td>\n",
              "      <td>13:05:00</td>\n",
              "      <td>49.0</td>\n",
              "      <td>NaN</td>\n",
              "      <td>NaN</td>\n",
              "      <td>I</td>\n",
              "      <td>0</td>\n",
              "      <td>0</td>\n",
              "      <td>-0.702779</td>\n",
              "      <td>False</td>\n",
              "    </tr>\n",
              "    <tr>\n",
              "      <th>3</th>\n",
              "      <td>2018090600</td>\n",
              "      <td>190</td>\n",
              "      <td>(13:01) (Shotgun) M.Ryan pass deep left to J.J...</td>\n",
              "      <td>1</td>\n",
              "      <td>3</td>\n",
              "      <td>10</td>\n",
              "      <td>ATL</td>\n",
              "      <td>play_type_pass</td>\n",
              "      <td>PHI</td>\n",
              "      <td>39</td>\n",
              "      <td>...</td>\n",
              "      <td>0.0</td>\n",
              "      <td>13:01:00</td>\n",
              "      <td>49.0</td>\n",
              "      <td>NaN</td>\n",
              "      <td>NaN</td>\n",
              "      <td>C</td>\n",
              "      <td>33</td>\n",
              "      <td>33</td>\n",
              "      <td>3.047530</td>\n",
              "      <td>False</td>\n",
              "    </tr>\n",
              "    <tr>\n",
              "      <th>4</th>\n",
              "      <td>2018090600</td>\n",
              "      <td>256</td>\n",
              "      <td>(10:59) (Shotgun) M.Ryan pass incomplete short...</td>\n",
              "      <td>1</td>\n",
              "      <td>3</td>\n",
              "      <td>1</td>\n",
              "      <td>ATL</td>\n",
              "      <td>play_type_pass</td>\n",
              "      <td>PHI</td>\n",
              "      <td>1</td>\n",
              "      <td>...</td>\n",
              "      <td>0.0</td>\n",
              "      <td>10:59:00</td>\n",
              "      <td>11.0</td>\n",
              "      <td>NaN</td>\n",
              "      <td>NaN</td>\n",
              "      <td>I</td>\n",
              "      <td>0</td>\n",
              "      <td>0</td>\n",
              "      <td>-0.842272</td>\n",
              "      <td>False</td>\n",
              "    </tr>\n",
              "    <tr>\n",
              "      <th>5</th>\n",
              "      <td>2018090600</td>\n",
              "      <td>320</td>\n",
              "      <td>(10:10) (Shotgun) N.Foles pass short left to N...</td>\n",
              "      <td>1</td>\n",
              "      <td>2</td>\n",
              "      <td>8</td>\n",
              "      <td>PHI</td>\n",
              "      <td>play_type_pass</td>\n",
              "      <td>PHI</td>\n",
              "      <td>4</td>\n",
              "      <td>...</td>\n",
              "      <td>0.0</td>\n",
              "      <td>10:10:00</td>\n",
              "      <td>14.0</td>\n",
              "      <td>NaN</td>\n",
              "      <td>NaN</td>\n",
              "      <td>C</td>\n",
              "      <td>4</td>\n",
              "      <td>4</td>\n",
              "      <td>-0.344096</td>\n",
              "      <td>False</td>\n",
              "    </tr>\n",
              "    <tr>\n",
              "      <th>6</th>\n",
              "      <td>2018090600</td>\n",
              "      <td>344</td>\n",
              "      <td>(9:24) (Shotgun) N.Foles pass incomplete short...</td>\n",
              "      <td>1</td>\n",
              "      <td>3</td>\n",
              "      <td>4</td>\n",
              "      <td>PHI</td>\n",
              "      <td>play_type_pass</td>\n",
              "      <td>PHI</td>\n",
              "      <td>8</td>\n",
              "      <td>...</td>\n",
              "      <td>0.0</td>\n",
              "      <td>09:24:00</td>\n",
              "      <td>18.0</td>\n",
              "      <td>NaN</td>\n",
              "      <td>NaN</td>\n",
              "      <td>I</td>\n",
              "      <td>0</td>\n",
              "      <td>0</td>\n",
              "      <td>-1.192208</td>\n",
              "      <td>False</td>\n",
              "    </tr>\n",
              "    <tr>\n",
              "      <th>7</th>\n",
              "      <td>2018090600</td>\n",
              "      <td>402</td>\n",
              "      <td>(9:08) M.Ryan pass incomplete deep left to M.S...</td>\n",
              "      <td>1</td>\n",
              "      <td>1</td>\n",
              "      <td>10</td>\n",
              "      <td>ATL</td>\n",
              "      <td>play_type_pass</td>\n",
              "      <td>PHI</td>\n",
              "      <td>44</td>\n",
              "      <td>...</td>\n",
              "      <td>0.0</td>\n",
              "      <td>09:08:00</td>\n",
              "      <td>54.0</td>\n",
              "      <td>NaN</td>\n",
              "      <td>NaN</td>\n",
              "      <td>I</td>\n",
              "      <td>0</td>\n",
              "      <td>0</td>\n",
              "      <td>-0.429863</td>\n",
              "      <td>False</td>\n",
              "    </tr>\n",
              "    <tr>\n",
              "      <th>8</th>\n",
              "      <td>2018090600</td>\n",
              "      <td>492</td>\n",
              "      <td>(7:01) M.Ryan pass short left to T.Coleman pus...</td>\n",
              "      <td>1</td>\n",
              "      <td>2</td>\n",
              "      <td>13</td>\n",
              "      <td>ATL</td>\n",
              "      <td>play_type_pass</td>\n",
              "      <td>PHI</td>\n",
              "      <td>36</td>\n",
              "      <td>...</td>\n",
              "      <td>0.0</td>\n",
              "      <td>07:01:00</td>\n",
              "      <td>46.0</td>\n",
              "      <td>NaN</td>\n",
              "      <td>NaN</td>\n",
              "      <td>C</td>\n",
              "      <td>26</td>\n",
              "      <td>26</td>\n",
              "      <td>1.879804</td>\n",
              "      <td>False</td>\n",
              "    </tr>\n",
              "    <tr>\n",
              "      <th>9</th>\n",
              "      <td>2018090600</td>\n",
              "      <td>521</td>\n",
              "      <td>(6:19) M.Ryan pass short left to A.Hooper to P...</td>\n",
              "      <td>1</td>\n",
              "      <td>1</td>\n",
              "      <td>10</td>\n",
              "      <td>ATL</td>\n",
              "      <td>play_type_pass</td>\n",
              "      <td>PHI</td>\n",
              "      <td>10</td>\n",
              "      <td>...</td>\n",
              "      <td>0.0</td>\n",
              "      <td>06:19:00</td>\n",
              "      <td>20.0</td>\n",
              "      <td>NaN</td>\n",
              "      <td>NaN</td>\n",
              "      <td>C</td>\n",
              "      <td>3</td>\n",
              "      <td>3</td>\n",
              "      <td>0.045665</td>\n",
              "      <td>False</td>\n",
              "    </tr>\n",
              "  </tbody>\n",
              "</table>\n",
              "<p>10 rows × 27 columns</p>\n",
              "</div>\n",
              "      <button class=\"colab-df-convert\" onclick=\"convertToInteractive('df-f86f77e9-3e70-4ec4-88d2-b40eae420f73')\"\n",
              "              title=\"Convert this dataframe to an interactive table.\"\n",
              "              style=\"display:none;\">\n",
              "        \n",
              "  <svg xmlns=\"http://www.w3.org/2000/svg\" height=\"24px\"viewBox=\"0 0 24 24\"\n",
              "       width=\"24px\">\n",
              "    <path d=\"M0 0h24v24H0V0z\" fill=\"none\"/>\n",
              "    <path d=\"M18.56 5.44l.94 2.06.94-2.06 2.06-.94-2.06-.94-.94-2.06-.94 2.06-2.06.94zm-11 1L8.5 8.5l.94-2.06 2.06-.94-2.06-.94L8.5 2.5l-.94 2.06-2.06.94zm10 10l.94 2.06.94-2.06 2.06-.94-2.06-.94-.94-2.06-.94 2.06-2.06.94z\"/><path d=\"M17.41 7.96l-1.37-1.37c-.4-.4-.92-.59-1.43-.59-.52 0-1.04.2-1.43.59L10.3 9.45l-7.72 7.72c-.78.78-.78 2.05 0 2.83L4 21.41c.39.39.9.59 1.41.59.51 0 1.02-.2 1.41-.59l7.78-7.78 2.81-2.81c.8-.78.8-2.07 0-2.86zM5.41 20L4 18.59l7.72-7.72 1.47 1.35L5.41 20z\"/>\n",
              "  </svg>\n",
              "      </button>\n",
              "      \n",
              "  <style>\n",
              "    .colab-df-container {\n",
              "      display:flex;\n",
              "      flex-wrap:wrap;\n",
              "      gap: 12px;\n",
              "    }\n",
              "\n",
              "    .colab-df-convert {\n",
              "      background-color: #E8F0FE;\n",
              "      border: none;\n",
              "      border-radius: 50%;\n",
              "      cursor: pointer;\n",
              "      display: none;\n",
              "      fill: #1967D2;\n",
              "      height: 32px;\n",
              "      padding: 0 0 0 0;\n",
              "      width: 32px;\n",
              "    }\n",
              "\n",
              "    .colab-df-convert:hover {\n",
              "      background-color: #E2EBFA;\n",
              "      box-shadow: 0px 1px 2px rgba(60, 64, 67, 0.3), 0px 1px 3px 1px rgba(60, 64, 67, 0.15);\n",
              "      fill: #174EA6;\n",
              "    }\n",
              "\n",
              "    [theme=dark] .colab-df-convert {\n",
              "      background-color: #3B4455;\n",
              "      fill: #D2E3FC;\n",
              "    }\n",
              "\n",
              "    [theme=dark] .colab-df-convert:hover {\n",
              "      background-color: #434B5C;\n",
              "      box-shadow: 0px 1px 3px 1px rgba(0, 0, 0, 0.15);\n",
              "      filter: drop-shadow(0px 1px 2px rgba(0, 0, 0, 0.3));\n",
              "      fill: #FFFFFF;\n",
              "    }\n",
              "  </style>\n",
              "\n",
              "      <script>\n",
              "        const buttonEl =\n",
              "          document.querySelector('#df-f86f77e9-3e70-4ec4-88d2-b40eae420f73 button.colab-df-convert');\n",
              "        buttonEl.style.display =\n",
              "          google.colab.kernel.accessAllowed ? 'block' : 'none';\n",
              "\n",
              "        async function convertToInteractive(key) {\n",
              "          const element = document.querySelector('#df-f86f77e9-3e70-4ec4-88d2-b40eae420f73');\n",
              "          const dataTable =\n",
              "            await google.colab.kernel.invokeFunction('convertToInteractive',\n",
              "                                                     [key], {});\n",
              "          if (!dataTable) return;\n",
              "\n",
              "          const docLinkHtml = 'Like what you see? Visit the ' +\n",
              "            '<a target=\"_blank\" href=https://colab.research.google.com/notebooks/data_table.ipynb>data table notebook</a>'\n",
              "            + ' to learn more about interactive tables.';\n",
              "          element.innerHTML = '';\n",
              "          dataTable['output_type'] = 'display_data';\n",
              "          await google.colab.output.renderOutput(dataTable, element);\n",
              "          const docLink = document.createElement('div');\n",
              "          docLink.innerHTML = docLinkHtml;\n",
              "          element.appendChild(docLink);\n",
              "        }\n",
              "      </script>\n",
              "    </div>\n",
              "  </div>\n",
              "  "
            ]
          },
          "metadata": {},
          "execution_count": 25
        }
      ],
      "source": [
        "plays = pd.read_csv(\"/content/plays.csv\")\n",
        "\n",
        "plays.head(10)"
      ]
    },
    {
      "cell_type": "code",
      "execution_count": 26,
      "metadata": {
        "colab": {
          "base_uri": "https://localhost:8080/"
        },
        "id": "jzBvo01V6l5G",
        "outputId": "1421032f-0e8a-461f-9802-0492e968b53a"
      },
      "outputs": [
        {
          "output_type": "execute_result",
          "data": {
            "text/plain": [
              "16197"
            ]
          },
          "metadata": {},
          "execution_count": 26
        }
      ],
      "source": [
        "# Here we do some preprocessing:\n",
        "#  - Taking out plays that end in interceptions, penalties, and fumbles\n",
        "#  - Then taking only the passing plays since we are not focusing on runs\n",
        "#  - We can see that we are using a total of 16,197 passing plays\n",
        "\n",
        "\n",
        "df = plays.copy()\n",
        "words = \"INTERCEPTED|PENALTY|FUMBLES\"\n",
        "passes = df[df['playDescription'].str.contains(\" pass \", case=False, na=False)]\n",
        "filtered = passes[~passes['playDescription'].str.contains(words, case=False, na=False)]\n",
        "filtered.shape[0]"
      ]
    },
    {
      "cell_type": "code",
      "execution_count": 27,
      "metadata": {
        "id": "pJ6uWq_h6l5H"
      },
      "outputs": [],
      "source": [
        "# Here we created data tables from the play table based on the location and result (complete or incomplete) of a pass\n",
        "\n",
        "# The \"playDescription\" column was a text string describing the events of the play. From this we extracted what happened\n",
        "# during the play and filtered the rows into their respective table\n",
        "\n",
        "incomplete_short = filtered[filtered['playDescription'].str.contains(\"incomplete short\", case=False, na=False)]\n",
        "incomplete_deep = filtered[filtered['playDescription'].str.contains(\"incomplete deep\", case=False, na=False)]\n",
        "complete_short = filtered[filtered['playDescription'].str.contains(\"pass short\", case=False, na=False)]\n",
        "complete_deep = filtered[filtered['playDescription'].str.contains(\"pass deep\", case=False, na=False)]\n",
        "\n",
        "#complete_short.to_csv(\"/Users/williamzwetolitz/Desktop/DS320/Data/complete_short.csv\")\n",
        "#complete_deep.to_csv(\"/Users/williamzwetolitz/Desktop/DS320/Data/complete_deep.csv\")\n",
        "#incomplete_short.to_csv(\"/Users/williamzwetolitz/Desktop/DS320/Data/incomplete_short.csv\")\n",
        "#incomplete_deep.to_csv(\"/Users/williamzwetolitz/Desktop/DS320/Data/incomplete_deep.csv\")"
      ]
    },
    {
      "cell_type": "code",
      "execution_count": null,
      "metadata": {
        "id": "edK74R6y6l5I"
      },
      "outputs": [],
      "source": [
        "# Similar to above, but this time splitting pass plays, regardless of outcome, into short and long passes\n",
        "\n",
        "short = filtered[filtered['playDescription'].str.contains(\"short\", case=False, na=False)]\n",
        "deep = filtered[filtered['playDescription'].str.contains(\"deep\", case=False, na=False)]"
      ]
    },
    {
      "cell_type": "code",
      "source": [
        "pass_type = ['Short', 'Deep']\n",
        "counts = [short.shape[0], deep.shape[0]]\n",
        "plt.bar(pass_type, counts, color = 'green')\n",
        " \n",
        "# Add title and axis names\n",
        "plt.title('Short vs. Deep')\n",
        "plt.xlabel('Pass Type')\n",
        "plt.ylabel('Count')\n",
        "\n",
        "plt.show()"
      ],
      "metadata": {
        "colab": {
          "base_uri": "https://localhost:8080/",
          "height": 295
        },
        "id": "xFtV1NfvFjQg",
        "outputId": "6d655962-5f56-4292-a1bf-0899bc93259e"
      },
      "execution_count": 30,
      "outputs": [
        {
          "output_type": "display_data",
          "data": {
            "text/plain": [
              "<Figure size 432x288 with 1 Axes>"
            ],
            "image/png": "[encoded data removed]"
          },
          "metadata": {
            "needs_background": "light"
          }
        }
      ]
    },
    {
      "cell_type": "code",
      "execution_count": 31,
      "metadata": {
        "colab": {
          "base_uri": "https://localhost:8080/"
        },
        "id": "EsLD_0jH6l5I",
        "outputId": "f004c5d2-fdcc-436c-f626-1f21a8611712"
      },
      "outputs": [
        {
          "output_type": "execute_result",
          "data": {
            "text/plain": [
              "0"
            ]
          },
          "metadata": {},
          "execution_count": 31
        }
      ],
      "source": [
        "# Removed plays where the number of defenders in the box was unknown\n",
        "\n",
        "short = short[pd.notnull(short['defendersInTheBox'])]\n",
        "short['defendersInTheBox'].isna().sum()"
      ]
    },
    {
      "cell_type": "code",
      "execution_count": 32,
      "metadata": {
        "id": "usQBLztT6l5J"
      },
      "outputs": [],
      "source": [
        "# The variables used to predict are:\n",
        "# yardsToGo - Distance needed for the offense to gain a first down\n",
        "#       May affect how aggressive a QB is, how they throw it, and type of pass they throw\n",
        "# defendersInTheBox - Number of defenders in close proximity to line-of-scrimmage\n",
        "#       Relates to how many players drop into coverage to protect the pass, the less players, the harder it is to pass\n",
        "# numberOfPassRushers - Number of players rushing the quarterback\n",
        "#       This affects how much time the QB as to throw\n",
        "\n",
        "# The prediction variable is passResult, either complete or incomplete\n",
        "\n",
        "# The data was split into training and testing, with 30% reserved for the latter\n",
        "\n",
        "X = short[['yardsToGo', 'defendersInTheBox', 'numberOfPassRushers']]\n",
        "y = short['passResult']\n",
        "\n",
        "X_train, X_test, y_train, y_test = train_test_split(X, y, test_size=0.3)"
      ]
    },
    {
      "cell_type": "code",
      "execution_count": 33,
      "metadata": {
        "id": "Rcw4j2DR6l5J"
      },
      "outputs": [],
      "source": [
        "# Here we train a random forest classifier using 100 estimators. RFC is a good choice here as it performs well in \n",
        "# classification problems like this one, effective at avoiding overfitting and can provide relative feature importance\n",
        "\n",
        "short_clf=RandomForestClassifier(n_estimators=100)\n",
        "\n",
        "short_clf.fit(X_train,y_train)\n",
        "y_pred=short_clf.predict(X_test)"
      ]
    },
    {
      "cell_type": "code",
      "execution_count": 34,
      "metadata": {
        "colab": {
          "base_uri": "https://localhost:8080/"
        },
        "id": "SiwHEAGs6l5K",
        "outputId": "be663e23-1b0b-44b0-92dc-79b3c6b49048"
      },
      "outputs": [
        {
          "output_type": "stream",
          "name": "stdout",
          "text": [
            "Model accuracy on short passes: 0.7005253940455342\n",
            "0.7005253940455342\n"
          ]
        }
      ],
      "source": [
        "# Here we see the accuracy of our model\n",
        "\n",
        "print(\"Model accuracy on short passes:\",metrics.accuracy_score(y_test, y_pred))\n",
        "\n",
        "rfc_short_acc = metrics.accuracy_score(y_test, y_pred)\n",
        "\n",
        "print(rfc_short_acc)"
      ]
    },
    {
      "cell_type": "code",
      "execution_count": 35,
      "metadata": {
        "id": "U61p_9Xh6l5K"
      },
      "outputs": [],
      "source": [
        "# Now, we will repeat the same process for deep passes\n",
        "\n",
        "deep = deep[pd.notnull(deep['defendersInTheBox'])]\n",
        "\n",
        "X = deep[['yardsToGo', 'defendersInTheBox', 'numberOfPassRushers']]\n",
        "y = deep['passResult']\n",
        "\n",
        "X_train, X_test, y_train, y_test = train_test_split(X, y, test_size=0.3)\n"
      ]
    },
    {
      "cell_type": "code",
      "execution_count": 36,
      "metadata": {
        "id": "8mK7goej6l5L"
      },
      "outputs": [],
      "source": [
        "clf2=RandomForestClassifier(n_estimators=100)\n",
        "\n",
        "clf2.fit(X_train,y_train)\n",
        "y_pred=clf2.predict(X_test)"
      ]
    },
    {
      "cell_type": "code",
      "execution_count": 37,
      "metadata": {
        "colab": {
          "base_uri": "https://localhost:8080/"
        },
        "id": "ip5_yd9x6l5L",
        "outputId": "ff51dd47-b711-49e9-9333-08770e113b69"
      },
      "outputs": [
        {
          "output_type": "stream",
          "name": "stdout",
          "text": [
            "Model accuracy on deep passes: 0.5442890442890443\n",
            "0.5442890442890443\n"
          ]
        }
      ],
      "source": [
        "print(\"Model accuracy on deep passes:\",metrics.accuracy_score(y_test, y_pred))\n",
        "\n",
        "rfc_deep_acc = metrics.accuracy_score(y_test, y_pred)\n",
        "\n",
        "print(rfc_deep_acc)"
      ]
    },
    {
      "cell_type": "markdown",
      "metadata": {
        "id": "IuhhtWDF6l5M"
      },
      "source": [
        "We can see that the prediction accuracy was much higher for short passes than long passes. This is expected because deep passes are much less consistant than short passes in the NFL. "
      ]
    },
    {
      "cell_type": "code",
      "source": [
        "pass_type = ['Short', 'Deep']\n",
        "accuracy = [rfc_short_acc, rfc_deep_acc]\n",
        "plt.bar(pass_type, accuracy, color = 'green')\n",
        " \n",
        "# Add title and axis names\n",
        "plt.title('Random Forest Classifier Model Accuracy')\n",
        "plt.xlabel('Pass Type')\n",
        "plt.ylabel('Accuracy')\n",
        "\n",
        "plt.show()"
      ],
      "metadata": {
        "colab": {
          "base_uri": "https://localhost:8080/",
          "height": 295
        },
        "id": "BaM3lVGoGm8I",
        "outputId": "a7618406-2b3e-499f-ff6c-36678d44d662"
      },
      "execution_count": 40,
      "outputs": [
        {
          "output_type": "display_data",
          "data": {
            "text/plain": [
              "<Figure size 432x288 with 1 Axes>"
            ],
            "image/png": "[encoded data removed]"
          },
          "metadata": {
            "needs_background": "light"
          }
        }
      ]
    },
    {
      "cell_type": "code",
      "execution_count": 41,
      "metadata": {
        "colab": {
          "base_uri": "https://localhost:8080/",
          "height": 473
        },
        "id": "lDoe5LRn6l5M",
        "outputId": "bc2ae74a-61cd-4294-8796-e178bb7d3f81"
      },
      "outputs": [
        {
          "output_type": "execute_result",
          "data": {
            "text/plain": [
              "       gameId  playId                                    playDescription  \\\n",
              "0  2018090600      75  (15:00) M.Ryan pass short right to J.Jones pus...   \n",
              "1  2018090600     146  (13:10) M.Ryan pass incomplete short right to ...   \n",
              "2  2018090600     168  (13:05) (Shotgun) M.Ryan pass incomplete short...   \n",
              "4  2018090600     256  (10:59) (Shotgun) M.Ryan pass incomplete short...   \n",
              "5  2018090600     320  (10:10) (Shotgun) N.Foles pass short left to N...   \n",
              "\n",
              "   quarter  down  yardsToGo possessionTeam        playType yardlineSide  \\\n",
              "0        1     1         15            ATL  play_type_pass          ATL   \n",
              "1        1     1         10            ATL  play_type_pass          PHI   \n",
              "2        1     2         10            ATL  play_type_pass          PHI   \n",
              "4        1     3          1            ATL  play_type_pass          PHI   \n",
              "5        1     2          8            PHI  play_type_pass          PHI   \n",
              "\n",
              "   yardlineNumber  ... gameClock absoluteYardlineNumber  penaltyCodes  \\\n",
              "0              20  ...  15:00:00                   90.0           NaN   \n",
              "1              39  ...  13:10:00                   49.0           NaN   \n",
              "2              39  ...  13:05:00                   49.0           NaN   \n",
              "4               1  ...  10:59:00                   11.0           NaN   \n",
              "5               4  ...  10:10:00                   14.0           NaN   \n",
              "\n",
              "   penaltyJerseyNumbers passResult offensePlayResult  playResult       epa  \\\n",
              "0                   NaN          C                10          10  0.261827   \n",
              "1                   NaN          I                 0           0 -0.372360   \n",
              "2                   NaN          I                 0           0 -0.702779   \n",
              "4                   NaN          I                 0           0 -0.842272   \n",
              "5                   NaN          C                 4           4 -0.344096   \n",
              "\n",
              "  isDefensivePI  binaryPassResult  \n",
              "0         False                 1  \n",
              "1         False                 0  \n",
              "2         False                 0  \n",
              "4         False                 0  \n",
              "5         False                 1  \n",
              "\n",
              "[5 rows x 28 columns]"
            ],
            "text/html": [
              "\n",
              "  <div id=\"df-27465bfb-645d-46bf-9186-86cc652b4249\">\n",
              "    <div class=\"colab-df-container\">\n",
              "      <div>\n",
              "<style scoped>\n",
              "    .dataframe tbody tr th:only-of-type {\n",
              "        vertical-align: middle;\n",
              "    }\n",
              "\n",
              "    .dataframe tbody tr th {\n",
              "        vertical-align: top;\n",
              "    }\n",
              "\n",
              "    .dataframe thead th {\n",
              "        text-align: right;\n",
              "    }\n",
              "</style>\n",
              "<table border=\"1\" class=\"dataframe\">\n",
              "  <thead>\n",
              "    <tr style=\"text-align: right;\">\n",
              "      <th></th>\n",
              "      <th>gameId</th>\n",
              "      <th>playId</th>\n",
              "      <th>playDescription</th>\n",
              "      <th>quarter</th>\n",
              "      <th>down</th>\n",
              "      <th>yardsToGo</th>\n",
              "      <th>possessionTeam</th>\n",
              "      <th>playType</th>\n",
              "      <th>yardlineSide</th>\n",
              "      <th>yardlineNumber</th>\n",
              "      <th>...</th>\n",
              "      <th>gameClock</th>\n",
              "      <th>absoluteYardlineNumber</th>\n",
              "      <th>penaltyCodes</th>\n",
              "      <th>penaltyJerseyNumbers</th>\n",
              "      <th>passResult</th>\n",
              "      <th>offensePlayResult</th>\n",
              "      <th>playResult</th>\n",
              "      <th>epa</th>\n",
              "      <th>isDefensivePI</th>\n",
              "      <th>binaryPassResult</th>\n",
              "    </tr>\n",
              "  </thead>\n",
              "  <tbody>\n",
              "    <tr>\n",
              "      <th>0</th>\n",
              "      <td>2018090600</td>\n",
              "      <td>75</td>\n",
              "      <td>(15:00) M.Ryan pass short right to J.Jones pus...</td>\n",
              "      <td>1</td>\n",
              "      <td>1</td>\n",
              "      <td>15</td>\n",
              "      <td>ATL</td>\n",
              "      <td>play_type_pass</td>\n",
              "      <td>ATL</td>\n",
              "      <td>20</td>\n",
              "      <td>...</td>\n",
              "      <td>15:00:00</td>\n",
              "      <td>90.0</td>\n",
              "      <td>NaN</td>\n",
              "      <td>NaN</td>\n",
              "      <td>C</td>\n",
              "      <td>10</td>\n",
              "      <td>10</td>\n",
              "      <td>0.261827</td>\n",
              "      <td>False</td>\n",
              "      <td>1</td>\n",
              "    </tr>\n",
              "    <tr>\n",
              "      <th>1</th>\n",
              "      <td>2018090600</td>\n",
              "      <td>146</td>\n",
              "      <td>(13:10) M.Ryan pass incomplete short right to ...</td>\n",
              "      <td>1</td>\n",
              "      <td>1</td>\n",
              "      <td>10</td>\n",
              "      <td>ATL</td>\n",
              "      <td>play_type_pass</td>\n",
              "      <td>PHI</td>\n",
              "      <td>39</td>\n",
              "      <td>...</td>\n",
              "      <td>13:10:00</td>\n",
              "      <td>49.0</td>\n",
              "      <td>NaN</td>\n",
              "      <td>NaN</td>\n",
              "      <td>I</td>\n",
              "      <td>0</td>\n",
              "      <td>0</td>\n",
              "      <td>-0.372360</td>\n",
              "      <td>False</td>\n",
              "      <td>0</td>\n",
              "    </tr>\n",
              "    <tr>\n",
              "      <th>2</th>\n",
              "      <td>2018090600</td>\n",
              "      <td>168</td>\n",
              "      <td>(13:05) (Shotgun) M.Ryan pass incomplete short...</td>\n",
              "      <td>1</td>\n",
              "      <td>2</td>\n",
              "      <td>10</td>\n",
              "      <td>ATL</td>\n",
              "      <td>play_type_pass</td>\n",
              "      <td>PHI</td>\n",
              "      <td>39</td>\n",
              "      <td>...</td>\n",
              "      <td>13:05:00</td>\n",
              "      <td>49.0</td>\n",
              "      <td>NaN</td>\n",
              "      <td>NaN</td>\n",
              "      <td>I</td>\n",
              "      <td>0</td>\n",
              "      <td>0</td>\n",
              "      <td>-0.702779</td>\n",
              "      <td>False</td>\n",
              "      <td>0</td>\n",
              "    </tr>\n",
              "    <tr>\n",
              "      <th>4</th>\n",
              "      <td>2018090600</td>\n",
              "      <td>256</td>\n",
              "      <td>(10:59) (Shotgun) M.Ryan pass incomplete short...</td>\n",
              "      <td>1</td>\n",
              "      <td>3</td>\n",
              "      <td>1</td>\n",
              "      <td>ATL</td>\n",
              "      <td>play_type_pass</td>\n",
              "      <td>PHI</td>\n",
              "      <td>1</td>\n",
              "      <td>...</td>\n",
              "      <td>10:59:00</td>\n",
              "      <td>11.0</td>\n",
              "      <td>NaN</td>\n",
              "      <td>NaN</td>\n",
              "      <td>I</td>\n",
              "      <td>0</td>\n",
              "      <td>0</td>\n",
              "      <td>-0.842272</td>\n",
              "      <td>False</td>\n",
              "      <td>0</td>\n",
              "    </tr>\n",
              "    <tr>\n",
              "      <th>5</th>\n",
              "      <td>2018090600</td>\n",
              "      <td>320</td>\n",
              "      <td>(10:10) (Shotgun) N.Foles pass short left to N...</td>\n",
              "      <td>1</td>\n",
              "      <td>2</td>\n",
              "      <td>8</td>\n",
              "      <td>PHI</td>\n",
              "      <td>play_type_pass</td>\n",
              "      <td>PHI</td>\n",
              "      <td>4</td>\n",
              "      <td>...</td>\n",
              "      <td>10:10:00</td>\n",
              "      <td>14.0</td>\n",
              "      <td>NaN</td>\n",
              "      <td>NaN</td>\n",
              "      <td>C</td>\n",
              "      <td>4</td>\n",
              "      <td>4</td>\n",
              "      <td>-0.344096</td>\n",
              "      <td>False</td>\n",
              "      <td>1</td>\n",
              "    </tr>\n",
              "  </tbody>\n",
              "</table>\n",
              "<p>5 rows × 28 columns</p>\n",
              "</div>\n",
              "      <button class=\"colab-df-convert\" onclick=\"convertToInteractive('df-27465bfb-645d-46bf-9186-86cc652b4249')\"\n",
              "              title=\"Convert this dataframe to an interactive table.\"\n",
              "              style=\"display:none;\">\n",
              "        \n",
              "  <svg xmlns=\"http://www.w3.org/2000/svg\" height=\"24px\"viewBox=\"0 0 24 24\"\n",
              "       width=\"24px\">\n",
              "    <path d=\"M0 0h24v24H0V0z\" fill=\"none\"/>\n",
              "    <path d=\"M18.56 5.44l.94 2.06.94-2.06 2.06-.94-2.06-.94-.94-2.06-.94 2.06-2.06.94zm-11 1L8.5 8.5l.94-2.06 2.06-.94-2.06-.94L8.5 2.5l-.94 2.06-2.06.94zm10 10l.94 2.06.94-2.06 2.06-.94-2.06-.94-.94-2.06-.94 2.06-2.06.94z\"/><path d=\"M17.41 7.96l-1.37-1.37c-.4-.4-.92-.59-1.43-.59-.52 0-1.04.2-1.43.59L10.3 9.45l-7.72 7.72c-.78.78-.78 2.05 0 2.83L4 21.41c.39.39.9.59 1.41.59.51 0 1.02-.2 1.41-.59l7.78-7.78 2.81-2.81c.8-.78.8-2.07 0-2.86zM5.41 20L4 18.59l7.72-7.72 1.47 1.35L5.41 20z\"/>\n",
              "  </svg>\n",
              "      </button>\n",
              "      \n",
              "  <style>\n",
              "    .colab-df-container {\n",
              "      display:flex;\n",
              "      flex-wrap:wrap;\n",
              "      gap: 12px;\n",
              "    }\n",
              "\n",
              "    .colab-df-convert {\n",
              "      background-color: #E8F0FE;\n",
              "      border: none;\n",
              "      border-radius: 50%;\n",
              "      cursor: pointer;\n",
              "      display: none;\n",
              "      fill: #1967D2;\n",
              "      height: 32px;\n",
              "      padding: 0 0 0 0;\n",
              "      width: 32px;\n",
              "    }\n",
              "\n",
              "    .colab-df-convert:hover {\n",
              "      background-color: #E2EBFA;\n",
              "      box-shadow: 0px 1px 2px rgba(60, 64, 67, 0.3), 0px 1px 3px 1px rgba(60, 64, 67, 0.15);\n",
              "      fill: #174EA6;\n",
              "    }\n",
              "\n",
              "    [theme=dark] .colab-df-convert {\n",
              "      background-color: #3B4455;\n",
              "      fill: #D2E3FC;\n",
              "    }\n",
              "\n",
              "    [theme=dark] .colab-df-convert:hover {\n",
              "      background-color: #434B5C;\n",
              "      box-shadow: 0px 1px 3px 1px rgba(0, 0, 0, 0.15);\n",
              "      filter: drop-shadow(0px 1px 2px rgba(0, 0, 0, 0.3));\n",
              "      fill: #FFFFFF;\n",
              "    }\n",
              "  </style>\n",
              "\n",
              "      <script>\n",
              "        const buttonEl =\n",
              "          document.querySelector('#df-27465bfb-645d-46bf-9186-86cc652b4249 button.colab-df-convert');\n",
              "        buttonEl.style.display =\n",
              "          google.colab.kernel.accessAllowed ? 'block' : 'none';\n",
              "\n",
              "        async function convertToInteractive(key) {\n",
              "          const element = document.querySelector('#df-27465bfb-645d-46bf-9186-86cc652b4249');\n",
              "          const dataTable =\n",
              "            await google.colab.kernel.invokeFunction('convertToInteractive',\n",
              "                                                     [key], {});\n",
              "          if (!dataTable) return;\n",
              "\n",
              "          const docLinkHtml = 'Like what you see? Visit the ' +\n",
              "            '<a target=\"_blank\" href=https://colab.research.google.com/notebooks/data_table.ipynb>data table notebook</a>'\n",
              "            + ' to learn more about interactive tables.';\n",
              "          element.innerHTML = '';\n",
              "          dataTable['output_type'] = 'display_data';\n",
              "          await google.colab.output.renderOutput(dataTable, element);\n",
              "          const docLink = document.createElement('div');\n",
              "          docLink.innerHTML = docLinkHtml;\n",
              "          element.appendChild(docLink);\n",
              "        }\n",
              "      </script>\n",
              "    </div>\n",
              "  </div>\n",
              "  "
            ]
          },
          "metadata": {},
          "execution_count": 41
        }
      ],
      "source": [
        "# Created a binary representation of the resutl of pass play. O for incomplete and 1 for complete.\n",
        "\n",
        "short['binaryPassResult'] = [0 if x == 'I' else 1 for x in short[\"passResult\"]]\n",
        "deep['binaryPassResult'] = [0 if x == 'I' else 1 for x in deep[\"passResult\"]]\n",
        "short.head()"
      ]
    },
    {
      "cell_type": "code",
      "execution_count": 42,
      "metadata": {
        "id": "wZnrQNbS6l5M"
      },
      "outputs": [],
      "source": [
        "# Using XGB for the same question looking at short passes\n",
        "from xgboost import XGBClassifier\n",
        "\n",
        "params_xgd = {\n",
        "    'max_depth': 7,\n",
        "    'objective': 'reg:logistic',\n",
        "    'learning_rate': 0.05,\n",
        "    'n_estimators': 10000\n",
        "    }\n",
        "\n",
        "X = short[['yardsToGo', 'defendersInTheBox', 'numberOfPassRushers']]\n",
        "y = short['binaryPassResult']\n",
        "\n",
        "X_train, X_test, y_train, y_test = train_test_split(X, y, test_size=0.2, random_state = 7)\n",
        "\n"
      ]
    },
    {
      "cell_type": "code",
      "execution_count": 43,
      "metadata": {
        "colab": {
          "base_uri": "https://localhost:8080/"
        },
        "id": "BMsu6IDE6l5N",
        "outputId": "ef37f1b5-0264-461f-872e-b87d3643b6cc"
      },
      "outputs": [
        {
          "output_type": "execute_result",
          "data": {
            "text/plain": [
              "XGBClassifier()"
            ]
          },
          "metadata": {},
          "execution_count": 43
        }
      ],
      "source": [
        "model = XGBClassifier()\n",
        "model.fit(X_train, y_train)"
      ]
    },
    {
      "cell_type": "code",
      "execution_count": 44,
      "metadata": {
        "colab": {
          "base_uri": "https://localhost:8080/"
        },
        "id": "3UpXqN-c6l5N",
        "outputId": "caf72d05-63df-461b-e611-a5b3b52a8b4a"
      },
      "outputs": [
        {
          "output_type": "stream",
          "name": "stdout",
          "text": [
            "Accuracy: 71.33%\n"
          ]
        }
      ],
      "source": [
        "y_pred = model.predict(X_test)\n",
        "preds = [round(value) for value in y_pred]\n",
        "\n",
        "accuracy_short = accuracy_score(y_test, preds)\n",
        "print(\"Accuracy: %.2f%%\" % (accuracy_short * 100.0))\n"
      ]
    },
    {
      "cell_type": "code",
      "execution_count": 45,
      "metadata": {
        "id": "1b1FheOe6l5O"
      },
      "outputs": [],
      "source": [
        "# Now doing XGBoost on deep passes\n",
        "\n",
        "from xgboost import XGBClassifier\n",
        "\n",
        "params_xgd = {\n",
        "    'max_depth': 7,\n",
        "    'objective': 'reg:logistic',\n",
        "    'learning_rate': 0.05,\n",
        "    'n_estimators': 10000\n",
        "    }\n",
        "\n",
        "X = deep[['yardsToGo', 'defendersInTheBox', 'numberOfPassRushers']]\n",
        "y = deep['binaryPassResult']\n",
        "\n",
        "X_train, X_test, y_train, y_test = train_test_split(X, y, test_size=0.2, random_state = 7)\n"
      ]
    },
    {
      "cell_type": "code",
      "execution_count": 46,
      "metadata": {
        "colab": {
          "base_uri": "https://localhost:8080/"
        },
        "id": "kz6_va2C6l5O",
        "outputId": "1533ecbf-1106-4c82-e120-2b998ce0212f"
      },
      "outputs": [
        {
          "output_type": "execute_result",
          "data": {
            "text/plain": [
              "XGBClassifier()"
            ]
          },
          "metadata": {},
          "execution_count": 46
        }
      ],
      "source": [
        "model = XGBClassifier()\n",
        "model.fit(X_train, y_train)"
      ]
    },
    {
      "cell_type": "code",
      "execution_count": 47,
      "metadata": {
        "colab": {
          "base_uri": "https://localhost:8080/"
        },
        "id": "m9b0T4KW6l5P",
        "outputId": "97f5c052-aa6b-41ae-efae-c638926466fd"
      },
      "outputs": [
        {
          "output_type": "stream",
          "name": "stdout",
          "text": [
            "Accuracy: 56.99%\n"
          ]
        }
      ],
      "source": [
        "y_pred = model.predict(X_test)\n",
        "preds = [round(value) for value in y_pred]\n",
        "\n",
        "accuracy_deep = accuracy_score(y_test, preds)\n",
        "print(\"Accuracy: %.2f%%\" % (accuracy_deep * 100.0))"
      ]
    },
    {
      "cell_type": "code",
      "source": [
        "pass_type = ['Short', 'Deep']\n",
        "accuracy = [accuracy_short, accuracy_deep]\n",
        "plt.bar(pass_type, accuracy, color = 'green')\n",
        " \n",
        "# Add title and axis names\n",
        "plt.title('XGB Classifier Model Accuracy')\n",
        "plt.xlabel('Pass Type')\n",
        "plt.ylabel('Accuracy')\n",
        "\n",
        "plt.show()"
      ],
      "metadata": {
        "colab": {
          "base_uri": "https://localhost:8080/",
          "height": 295
        },
        "id": "c4Q0lX3oIF-J",
        "outputId": "ae3a2e82-5cd3-4082-a9a5-84959a15d9f6"
      },
      "execution_count": 48,
      "outputs": [
        {
          "output_type": "display_data",
          "data": {
            "text/plain": [
              "<Figure size 432x288 with 1 Axes>"
            ],
            "image/png": "[encoded data removed]"
          },
          "metadata": {
            "needs_background": "light"
          }
        }
      ]
    },
    {
      "cell_type": "code",
      "execution_count": 49,
      "metadata": {
        "colab": {
          "base_uri": "https://localhost:8080/"
        },
        "id": "kdiSqiGB6l5P",
        "outputId": "ccdbdd47-7005-40bb-c05a-f68bb3c5f91f"
      },
      "outputs": [
        {
          "output_type": "stream",
          "name": "stdout",
          "text": [
            "Model                       Short Passes    Long Passes\n",
            "------------------------  --------------  -------------\n",
            "Random Forest Classifier        0.700525       0.544289\n",
            "XGBoost                         0.713321       0.56993\n"
          ]
        }
      ],
      "source": [
        "accuracy_data = [[\"Random Forest Classifier\", rfc_short_acc, rfc_deep_acc], [\"XGBoost\", accuracy_short, accuracy_deep]]\n",
        "\n",
        "col_names = [\"Model\", \"Short Passes\", \"Long Passes\"]\n",
        "\n",
        "print(tabulate(accuracy_data, headers=col_names))"
      ]
    },
    {
      "cell_type": "code",
      "execution_count": 69,
      "metadata": {
        "colab": {
          "base_uri": "https://localhost:8080/",
          "height": 295
        },
        "id": "Iqlouejs6l5Q",
        "outputId": "74dc92c0-cdd1-47e7-e7c4-d30d2c3308bf"
      },
      "outputs": [
        {
          "output_type": "display_data",
          "data": {
            "text/plain": [
              "<Figure size 432x288 with 1 Axes>"
            ],
            "image/png": "[encoded data removed]"
          },
          "metadata": {
            "needs_background": "light"
          }
        }
      ],
      "source": [
        "def addlabels(x,y, alignment):\n",
        "    for i in range(len(x)):\n",
        "        plt.text(i, y[i].round(4), y[i].round(4), ha = alignment)\n",
        "\n",
        "X = ['RFC','XGBoost']\n",
        "short = [rfc_short_acc, accuracy_short]\n",
        "deep = [rfc_deep_acc, accuracy_deep] \n",
        "X_axis = np.arange(len(X))\n",
        "  \n",
        "plt.bar(X_axis - 0.2, short, 0.4, label = 'Short')\n",
        "plt.bar(X_axis + 0.2, deep, 0.4, label = 'Deep')\n",
        "addlabels(X_axis, short, 'right')\n",
        "addlabels(X_axis, deep, 'left')\n",
        "plt.xticks(X_axis, X)\n",
        "plt.xlabel(\"Models\")\n",
        "plt.ylabel(\"Accuracy\")\n",
        "plt.title(\"FFC vs. XGBoost\")\n",
        "plt.legend()\n",
        "plt.show()"
      ]
    }
  ],
  "metadata": {
    "kernelspec": {
      "display_name": "Python 3.11.0 64-bit",
      "language": "python",
      "name": "python3"
    },
    "language_info": {
      "codemirror_mode": {
        "name": "ipython",
        "version": 3
      },
      "file_extension": ".py",
      "mimetype": "text/x-python",
      "name": "python",
      "nbconvert_exporter": "python",
      "pygments_lexer": "ipython3",
      "version": "3.11.0"
    },
    "orig_nbformat": 4,
    "vscode": {
      "interpreter": {
        "hash": "aee8b7b246df8f9039afb4144a1f6fd8d2ca17a180786b69acc140d282b71a49"
      }
    },
    "colab": {
      "provenance": []
    }
  },
  "nbformat": 4,
  "nbformat_minor": 0
}