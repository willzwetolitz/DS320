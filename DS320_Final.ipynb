{
  "nbformat": 4,
  "nbformat_minor": 0,
  "metadata": {
    "colab": {
      "provenance": []
    },
    "kernelspec": {
      "name": "python3",
      "display_name": "Python 3"
    },
    "language_info": {
      "name": "python"
    }
  },
  "cells": [
    {
      "cell_type": "markdown",
      "source": [
        "# DS 320 Final Project - Thomas"
      ],
      "metadata": {
        "id": "tlO9LCOD2fa6"
      }
    },
    {
      "cell_type": "code",
      "execution_count": 62,
      "metadata": {
        "id": "SAn_iXgg2dIQ"
      },
      "outputs": [],
      "source": [
        "import numpy as np\n",
        "import pandas as pd\n",
        "import os as os\n",
        "import xgboost as xgb\n",
        "\n",
        "#metrics\n",
        "from sklearn.ensemble import RandomForestClassifier\n",
        "from sklearn import metrics\n",
        "from sklearn.model_selection import train_test_split"
      ]
    },
    {
      "cell_type": "code",
      "source": [
        "from google.colab import drive\n",
        "\n",
        "drive.mount('/content/gdrive/', force_remount=True)\n"
      ],
      "metadata": {
        "colab": {
          "base_uri": "https://localhost:8080/"
        },
        "id": "aiHuBquc4Hlh",
        "outputId": "6176de0f-3197-4d6f-a0fe-f7db64a7671e"
      },
      "execution_count": 2,
      "outputs": [
        {
          "output_type": "stream",
          "name": "stdout",
          "text": [
            "Mounted at /content/gdrive/\n"
          ]
        }
      ]
    },
    {
      "cell_type": "code",
      "source": [
        "plays = pd.read_csv('/content/gdrive/MyDrive/plays.csv')\n",
        "week1 = pd.read_csv('/content/gdrive/MyDrive/week1.csv')"
      ],
      "metadata": {
        "id": "ybRTVATA4Kaj"
      },
      "execution_count": 3,
      "outputs": []
    },
    {
      "cell_type": "code",
      "source": [
        "week2 = pd.read_csv('/content/gdrive/MyDrive/football/week2.csv')\n",
        "week3 = pd.read_csv('/content/gdrive/MyDrive/football/week3.csv')"
      ],
      "metadata": {
        "id": "4QFjnALb4dsG"
      },
      "execution_count": 4,
      "outputs": []
    },
    {
      "cell_type": "code",
      "source": [
        "week4 = pd.read_csv('/content/gdrive/MyDrive/football/week4.csv')\n",
        "week5 = pd.read_csv('/content/gdrive/MyDrive/football/week5.csv')"
      ],
      "metadata": {
        "id": "OKiocgQU8Heu"
      },
      "execution_count": 5,
      "outputs": []
    },
    {
      "cell_type": "code",
      "source": [
        "week6 = pd.read_csv('/content/gdrive/MyDrive/football/week6.csv')\n",
        "week7 = pd.read_csv('/content/gdrive/MyDrive/football/week7.csv')"
      ],
      "metadata": {
        "id": "8ybw72m38I4o"
      },
      "execution_count": 6,
      "outputs": []
    },
    {
      "cell_type": "code",
      "source": [
        "week8 = pd.read_csv('/content/gdrive/MyDrive/football/week8.csv')\n",
        "week9 = pd.read_csv('/content/gdrive/MyDrive/football/week9.csv')"
      ],
      "metadata": {
        "id": "p7l1Qsa68LOp"
      },
      "execution_count": 7,
      "outputs": []
    },
    {
      "cell_type": "code",
      "source": [
        "week10 = pd.read_csv('/content/gdrive/MyDrive/football/week10.csv')\n",
        "week11 = pd.read_csv('/content/gdrive/MyDrive/football/week11.csv')"
      ],
      "metadata": {
        "id": "_qn4P6h_8Mlr"
      },
      "execution_count": 8,
      "outputs": []
    },
    {
      "cell_type": "code",
      "source": [
        "week12 = pd.read_csv('/content/gdrive/MyDrive/football/week12.csv')\n",
        "week13 = pd.read_csv('/content/gdrive/MyDrive/football/week13.csv')"
      ],
      "metadata": {
        "id": "ZTrQs7uK8N2M"
      },
      "execution_count": 9,
      "outputs": []
    },
    {
      "cell_type": "code",
      "source": [
        "week14 = pd.read_csv('/content/gdrive/MyDrive/football/week14.csv')\n",
        "week15 = pd.read_csv('/content/gdrive/MyDrive/football/week15.csv')"
      ],
      "metadata": {
        "id": "eSJPx7Km8PWU"
      },
      "execution_count": 10,
      "outputs": []
    },
    {
      "cell_type": "code",
      "source": [
        "week16 = pd.read_csv('/content/gdrive/MyDrive/football/week16.csv')\n",
        "week17 = pd.read_csv('/content/gdrive/MyDrive/football/week17.csv')"
      ],
      "metadata": {
        "id": "PGPvmw7h8Q6k"
      },
      "execution_count": 11,
      "outputs": []
    },
    {
      "cell_type": "code",
      "source": [
        "df = plays.copy()\n",
        "words = \"INTERCEPTED|PENALTY|FUMBLES\"\n",
        "passes = df[df['playDescription'].str.contains(\" pass \", case=False, na=False)]\n",
        "filtered = passes[~passes['playDescription'].str.contains(words, case=False, na=False)]\n",
        "filtered.shape[0]"
      ],
      "metadata": {
        "colab": {
          "base_uri": "https://localhost:8080/"
        },
        "id": "UDqe6ARwrDHK",
        "outputId": "8d96df81-6dc0-412d-e550-f53f8c4c71c0"
      },
      "execution_count": 12,
      "outputs": [
        {
          "output_type": "execute_result",
          "data": {
            "text/plain": [
              "16197"
            ]
          },
          "metadata": {},
          "execution_count": 12
        }
      ]
    },
    {
      "cell_type": "code",
      "source": [
        "short = filtered[filtered['playDescription'].str.contains(\"short\", case=False, na=False)]\n",
        "deep = filtered[filtered['playDescription'].str.contains(\"deep\", case=False, na=False)]"
      ],
      "metadata": {
        "id": "Bn_hzJclrPX1"
      },
      "execution_count": 13,
      "outputs": []
    },
    {
      "cell_type": "code",
      "source": [
        "df = pd.concat([week1, week2, week3, week4, week5, week6, week7, week8, week9, week10, week11, week12, week13, week14, week15, week16, week17])"
      ],
      "metadata": {
        "id": "raWIWi5s8_id"
      },
      "execution_count": 41,
      "outputs": []
    },
    {
      "cell_type": "code",
      "source": [
        "df = df[df[\"position\"] == \"WR\"] "
      ],
      "metadata": {
        "id": "N5HR-XI193L8"
      },
      "execution_count": 42,
      "outputs": []
    },
    {
      "cell_type": "code",
      "source": [
        "df = df[df['event'] == 'pass_arrived']"
      ],
      "metadata": {
        "id": "Wjc2_pY5-XXT"
      },
      "execution_count": 43,
      "outputs": []
    },
    {
      "cell_type": "code",
      "source": [
        "df = df[['a', 's', 'dis', 'gameId', 'playId']]"
      ],
      "metadata": {
        "id": "eDGRvo1QBvcK"
      },
      "execution_count": 45,
      "outputs": []
    },
    {
      "cell_type": "code",
      "source": [
        "short = short[['gameId', 'playId', 'passResult']]"
      ],
      "metadata": {
        "id": "QtL0jJy5CUPm"
      },
      "execution_count": 51,
      "outputs": []
    },
    {
      "cell_type": "code",
      "source": [
        "deep = deep[['gameId', 'playId', 'passResult']]"
      ],
      "metadata": {
        "id": "HBXYRI00C65y"
      },
      "execution_count": 52,
      "outputs": []
    },
    {
      "cell_type": "code",
      "source": [
        "df_long = df.merge(deep, how = \"inner\")"
      ],
      "metadata": {
        "id": "_AMI-X4wC-Pw"
      },
      "execution_count": 53,
      "outputs": []
    },
    {
      "cell_type": "code",
      "source": [
        "df_short = df.merge(short, how = \"inner\")"
      ],
      "metadata": {
        "id": "GK-M4OPHDaXO"
      },
      "execution_count": 54,
      "outputs": []
    },
    {
      "cell_type": "code",
      "source": [
        "X = df_short[['a', 's', 'dis']]\n",
        "y = df_short['passResult']\n",
        "\n",
        "X_train, X_test, y_train, y_test = train_test_split(X, y, test_size=0.3)"
      ],
      "metadata": {
        "id": "NgirDRubDtp-"
      },
      "execution_count": 56,
      "outputs": []
    },
    {
      "cell_type": "code",
      "source": [
        "short_clf=RandomForestClassifier(n_estimators=100)\n",
        "\n",
        "short_clf.fit(X_train,y_train)\n",
        "y_pred=short_clf.predict(X_test)"
      ],
      "metadata": {
        "id": "9SqYOySmD5D7"
      },
      "execution_count": 57,
      "outputs": []
    },
    {
      "cell_type": "code",
      "source": [
        "print(\"Model accuracy on short passes:\",metrics.accuracy_score(y_test, y_pred))"
      ],
      "metadata": {
        "colab": {
          "base_uri": "https://localhost:8080/"
        },
        "id": "01QzN6wuDxzE",
        "outputId": "4556232e-b50e-4a79-91cc-bbdb3b2791ba"
      },
      "execution_count": 58,
      "outputs": [
        {
          "output_type": "stream",
          "name": "stdout",
          "text": [
            "Model accuracy on short passes: 0.7876229157759727\n"
          ]
        }
      ]
    },
    {
      "cell_type": "code",
      "source": [
        "X = df_long[['a', 's', 'dis']]\n",
        "y = df_long['passResult']\n",
        "\n",
        "X_train, X_test, y_train, y_test = train_test_split(X, y, test_size=0.3)"
      ],
      "metadata": {
        "id": "KIYYsk_2EoeI"
      },
      "execution_count": 59,
      "outputs": []
    },
    {
      "cell_type": "code",
      "source": [
        "long_clf=RandomForestClassifier(n_estimators=100)\n",
        "\n",
        "long_clf.fit(X_train,y_train)\n",
        "y_pred=long_clf.predict(X_test)"
      ],
      "metadata": {
        "id": "NLzEYddEE0pM"
      },
      "execution_count": 60,
      "outputs": []
    },
    {
      "cell_type": "code",
      "source": [
        "print(\"Model accuracy on long passes:\",metrics.accuracy_score(y_test, y_pred))"
      ],
      "metadata": {
        "colab": {
          "base_uri": "https://localhost:8080/"
        },
        "id": "3zuJUPk5E5x-",
        "outputId": "59ad014c-8b1b-444c-d622-2de55e6442b0"
      },
      "execution_count": 61,
      "outputs": [
        {
          "output_type": "stream",
          "name": "stdout",
          "text": [
            "Model accuracy on short passes: 0.579080025204789\n"
          ]
        }
      ]
    }
  ]
}