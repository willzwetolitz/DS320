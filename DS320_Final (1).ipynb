{
  "nbformat": 4,
  "nbformat_minor": 0,
  "metadata": {
    "colab": {
      "provenance": []
    },
    "kernelspec": {
      "name": "python3",
      "display_name": "Python 3"
    },
    "language_info": {
      "name": "python"
    }
  },
  "cells": [
    {
      "cell_type": "markdown",
      "source": [
        "# DS 320 Final Project - Thomas"
      ],
      "metadata": {
        "id": "tlO9LCOD2fa6"
      }
    },
    {
      "cell_type": "code",
      "execution_count": 85,
      "metadata": {
        "id": "SAn_iXgg2dIQ"
      },
      "outputs": [],
      "source": [
        "import pandas as pd\n",
        "from sklearn.ensemble import RandomForestClassifier\n",
        "from sklearn.model_selection import train_test_split \n",
        "from sklearn.metrics import accuracy_score\n",
        "from tabulate import tabulate\n",
        "from sklearn import metrics\n"
      ]
    },
    {
      "cell_type": "code",
      "source": [
        "from google.colab import drive\n",
        "\n",
        "drive.mount('/content/gdrive/', force_remount=True)\n"
      ],
      "metadata": {
        "colab": {
          "base_uri": "https://localhost:8080/"
        },
        "id": "aiHuBquc4Hlh",
        "outputId": "6176de0f-3197-4d6f-a0fe-f7db64a7671e"
      },
      "execution_count": 2,
      "outputs": [
        {
          "output_type": "stream",
          "name": "stdout",
          "text": [
            "Mounted at /content/gdrive/\n"
          ]
        }
      ]
    },
    {
      "cell_type": "code",
      "source": [
        "plays = pd.read_csv('/content/gdrive/MyDrive/plays.csv')\n",
        "week1 = pd.read_csv('/content/gdrive/MyDrive/week1.csv')"
      ],
      "metadata": {
        "id": "ybRTVATA4Kaj"
      },
      "execution_count": 3,
      "outputs": []
    },
    {
      "cell_type": "code",
      "source": [
        "week2 = pd.read_csv('/content/gdrive/MyDrive/football/week2.csv')\n",
        "week3 = pd.read_csv('/content/gdrive/MyDrive/football/week3.csv')"
      ],
      "metadata": {
        "id": "4QFjnALb4dsG"
      },
      "execution_count": 4,
      "outputs": []
    },
    {
      "cell_type": "code",
      "source": [
        "week4 = pd.read_csv('/content/gdrive/MyDrive/football/week4.csv')\n",
        "week5 = pd.read_csv('/content/gdrive/MyDrive/football/week5.csv')"
      ],
      "metadata": {
        "id": "OKiocgQU8Heu"
      },
      "execution_count": 5,
      "outputs": []
    },
    {
      "cell_type": "code",
      "source": [
        "week6 = pd.read_csv('/content/gdrive/MyDrive/football/week6.csv')\n",
        "week7 = pd.read_csv('/content/gdrive/MyDrive/football/week7.csv')"
      ],
      "metadata": {
        "id": "8ybw72m38I4o"
      },
      "execution_count": 6,
      "outputs": []
    },
    {
      "cell_type": "code",
      "source": [
        "week8 = pd.read_csv('/content/gdrive/MyDrive/football/week8.csv')\n",
        "week9 = pd.read_csv('/content/gdrive/MyDrive/football/week9.csv')"
      ],
      "metadata": {
        "id": "p7l1Qsa68LOp"
      },
      "execution_count": 7,
      "outputs": []
    },
    {
      "cell_type": "code",
      "source": [
        "week10 = pd.read_csv('/content/gdrive/MyDrive/football/week10.csv')\n",
        "week11 = pd.read_csv('/content/gdrive/MyDrive/football/week11.csv')"
      ],
      "metadata": {
        "id": "_qn4P6h_8Mlr"
      },
      "execution_count": 8,
      "outputs": []
    },
    {
      "cell_type": "code",
      "source": [
        "week12 = pd.read_csv('/content/gdrive/MyDrive/football/week12.csv')\n",
        "week13 = pd.read_csv('/content/gdrive/MyDrive/football/week13.csv')"
      ],
      "metadata": {
        "id": "ZTrQs7uK8N2M"
      },
      "execution_count": 9,
      "outputs": []
    },
    {
      "cell_type": "code",
      "source": [
        "week14 = pd.read_csv('/content/gdrive/MyDrive/football/week14.csv')\n",
        "week15 = pd.read_csv('/content/gdrive/MyDrive/football/week15.csv')"
      ],
      "metadata": {
        "id": "eSJPx7Km8PWU"
      },
      "execution_count": 10,
      "outputs": []
    },
    {
      "cell_type": "code",
      "source": [
        "week16 = pd.read_csv('/content/gdrive/MyDrive/football/week16.csv')\n",
        "week17 = pd.read_csv('/content/gdrive/MyDrive/football/week17.csv')"
      ],
      "metadata": {
        "id": "PGPvmw7h8Q6k"
      },
      "execution_count": 11,
      "outputs": []
    },
    {
      "cell_type": "code",
      "source": [
        "df = plays.copy()\n",
        "words = \"INTERCEPTED|PENALTY|FUMBLES\"\n",
        "passes = df[df['playDescription'].str.contains(\" pass \", case=False, na=False)]\n",
        "filtered = passes[~passes['playDescription'].str.contains(words, case=False, na=False)]\n",
        "filtered.shape[0]"
      ],
      "metadata": {
        "colab": {
          "base_uri": "https://localhost:8080/"
        },
        "id": "UDqe6ARwrDHK",
        "outputId": "8d96df81-6dc0-412d-e550-f53f8c4c71c0"
      },
      "execution_count": 12,
      "outputs": [
        {
          "output_type": "execute_result",
          "data": {
            "text/plain": [
              "16197"
            ]
          },
          "metadata": {},
          "execution_count": 12
        }
      ]
    },
    {
      "cell_type": "code",
      "source": [
        "short = filtered[filtered['playDescription'].str.contains(\"short\", case=False, na=False)]\n",
        "deep = filtered[filtered['playDescription'].str.contains(\"deep\", case=False, na=False)]"
      ],
      "metadata": {
        "id": "Bn_hzJclrPX1"
      },
      "execution_count": 13,
      "outputs": []
    },
    {
      "cell_type": "code",
      "source": [
        "df = pd.concat([week1, week2, week3, week4, week5, week6, week7, week8, week9, week10, week11, week12, week13, week14, week15, week16, week17])"
      ],
      "metadata": {
        "id": "raWIWi5s8_id"
      },
      "execution_count": 41,
      "outputs": []
    },
    {
      "cell_type": "code",
      "source": [
        "df = df[df[\"position\"] == \"WR\"] "
      ],
      "metadata": {
        "id": "N5HR-XI193L8"
      },
      "execution_count": 42,
      "outputs": []
    },
    {
      "cell_type": "code",
      "source": [
        "df = df[df['event'] == 'pass_arrived']"
      ],
      "metadata": {
        "id": "Wjc2_pY5-XXT"
      },
      "execution_count": 43,
      "outputs": []
    },
    {
      "cell_type": "code",
      "source": [
        "df = df[['a', 's', 'dis', 'gameId', 'playId']]"
      ],
      "metadata": {
        "id": "eDGRvo1QBvcK"
      },
      "execution_count": 45,
      "outputs": []
    },
    {
      "cell_type": "code",
      "source": [
        "short = short[['gameId', 'playId', 'passResult']]"
      ],
      "metadata": {
        "id": "QtL0jJy5CUPm"
      },
      "execution_count": 51,
      "outputs": []
    },
    {
      "cell_type": "code",
      "source": [
        "deep = deep[['gameId', 'playId', 'passResult']]"
      ],
      "metadata": {
        "id": "HBXYRI00C65y"
      },
      "execution_count": 52,
      "outputs": []
    },
    {
      "cell_type": "code",
      "source": [
        "df_long = df.merge(deep, how = \"inner\")"
      ],
      "metadata": {
        "id": "_AMI-X4wC-Pw"
      },
      "execution_count": 53,
      "outputs": []
    },
    {
      "cell_type": "code",
      "source": [
        "df_short = df.merge(short, how = \"inner\")"
      ],
      "metadata": {
        "id": "GK-M4OPHDaXO"
      },
      "execution_count": 54,
      "outputs": []
    },
    {
      "cell_type": "code",
      "source": [
        "X = df_short[['a', 's', 'dis']]\n",
        "y = df_short['passResult']\n",
        "\n",
        "X_train, X_test, y_train, y_test = train_test_split(X, y, test_size=0.3)"
      ],
      "metadata": {
        "id": "NgirDRubDtp-"
      },
      "execution_count": 77,
      "outputs": []
    },
    {
      "cell_type": "code",
      "source": [
        "short_clf=RandomForestClassifier(n_estimators=100)\n",
        "\n",
        "short_clf.fit(X_train,y_train)\n",
        "y_pred=short_clf.predict(X_test)\n"
      ],
      "metadata": {
        "id": "9SqYOySmD5D7"
      },
      "execution_count": 78,
      "outputs": []
    },
    {
      "cell_type": "code",
      "source": [
        "rfc_short_acc = metrics.accuracy_score(y_test, y_pred)\n",
        "\n",
        "print(\"Model accuracy on short passes:\",metrics.accuracy_score(y_test, y_pred))"
      ],
      "metadata": {
        "colab": {
          "base_uri": "https://localhost:8080/"
        },
        "id": "01QzN6wuDxzE",
        "outputId": "bfda62a6-769b-4037-e16f-1e8c063273e8"
      },
      "execution_count": 80,
      "outputs": [
        {
          "output_type": "stream",
          "name": "stdout",
          "text": [
            "Model accuracy on short passes: 0.7878366823428816\n"
          ]
        }
      ]
    },
    {
      "cell_type": "code",
      "source": [
        "X = df_long[['a', 's', 'dis']]\n",
        "y = df_long['passResult']\n",
        "\n",
        "X_train, X_test, y_train, y_test = train_test_split(X, y, test_size=0.3)"
      ],
      "metadata": {
        "id": "KIYYsk_2EoeI"
      },
      "execution_count": 81,
      "outputs": []
    },
    {
      "cell_type": "code",
      "source": [
        "long_clf=RandomForestClassifier(n_estimators=100)\n",
        "\n",
        "long_clf.fit(X_train,y_train)\n",
        "y_pred=long_clf.predict(X_test)"
      ],
      "metadata": {
        "id": "NLzEYddEE0pM"
      },
      "execution_count": 82,
      "outputs": []
    },
    {
      "cell_type": "code",
      "source": [
        "print(\"Model accuracy on long passes:\",metrics.accuracy_score(y_test, y_pred))\n",
        "rfc_deep_acc = metrics.accuracy_score(y_test, y_pred)"
      ],
      "metadata": {
        "colab": {
          "base_uri": "https://localhost:8080/"
        },
        "id": "3zuJUPk5E5x-",
        "outputId": "3857f3c4-8a55-469a-ccaf-844ddf03bf81"
      },
      "execution_count": 84,
      "outputs": [
        {
          "output_type": "stream",
          "name": "stdout",
          "text": [
            "Model accuracy on long passes: 0.573408947700063\n"
          ]
        }
      ]
    },
    {
      "cell_type": "code",
      "source": [
        "df_short['binaryPassResult'] = [0 if x == 'I' else 1 for x in df_short[\"passResult\"]]\n",
        "df_long['binaryPassResult'] = [0 if x == 'I' else 1 for x in df_long[\"passResult\"]]"
      ],
      "metadata": {
        "id": "O5bfEv2kK73Q"
      },
      "execution_count": 66,
      "outputs": []
    },
    {
      "cell_type": "code",
      "source": [
        "from xgboost import XGBClassifier\n",
        "\n",
        "params_xgd = {\n",
        "    'max_depth': 7,\n",
        "    'objective': 'reg:logistic',\n",
        "    'learning_rate': 0.05,\n",
        "    'n_estimators': 10000\n",
        "    }\n",
        "\n",
        "X = df_short[['a', 's', 'dis']]\n",
        "y = df_short['binaryPassResult']\n",
        "\n",
        "X_train, X_test, y_train, y_test = train_test_split(X, y, test_size=0.2, random_state = 7)"
      ],
      "metadata": {
        "id": "CjTi3KftLidl"
      },
      "execution_count": 70,
      "outputs": []
    },
    {
      "cell_type": "code",
      "source": [
        "model = XGBClassifier()\n",
        "model.fit(X_train, y_train)"
      ],
      "metadata": {
        "colab": {
          "base_uri": "https://localhost:8080/"
        },
        "id": "zi-oKJY_L35k",
        "outputId": "0e9dc501-62d0-433c-9d4f-0892419c73d8"
      },
      "execution_count": 71,
      "outputs": [
        {
          "output_type": "execute_result",
          "data": {
            "text/plain": [
              "XGBClassifier()"
            ]
          },
          "metadata": {},
          "execution_count": 71
        }
      ]
    },
    {
      "cell_type": "code",
      "source": [
        "y_pred = model.predict(X_test)\n",
        "preds = [round(value) for value in y_pred]\n",
        "\n",
        "accuracy_short = metrics.accuracy_score(y_test, preds)\n",
        "print(accuracy_short)"
      ],
      "metadata": {
        "colab": {
          "base_uri": "https://localhost:8080/"
        },
        "id": "fz4y5QpUL5Dh",
        "outputId": "e20611be-bb81-45fc-95d7-fbf1f6ea8140"
      },
      "execution_count": 73,
      "outputs": [
        {
          "output_type": "stream",
          "name": "stdout",
          "text": [
            "0.8236331569664903\n"
          ]
        }
      ]
    },
    {
      "cell_type": "code",
      "source": [
        "params_xgd = {\n",
        "    'max_depth': 7,\n",
        "    'objective': 'reg:logistic',\n",
        "    'learning_rate': 0.05,\n",
        "    'n_estimators': 10000\n",
        "    }\n",
        "\n",
        "X = df_long[['a', 's', 'dis']]\n",
        "y = df_long['binaryPassResult']\n",
        "\n",
        "X_train, X_test, y_train, y_test = train_test_split(X, y, test_size=0.2, random_state = 7)"
      ],
      "metadata": {
        "id": "rRVhBFDbMTkR"
      },
      "execution_count": 74,
      "outputs": []
    },
    {
      "cell_type": "code",
      "source": [
        "model = XGBClassifier()\n",
        "model.fit(X_train, y_train)"
      ],
      "metadata": {
        "colab": {
          "base_uri": "https://localhost:8080/"
        },
        "id": "jKHH7oiAMakC",
        "outputId": "0cbe803e-abfd-4444-ba5c-423e2f86f7b7"
      },
      "execution_count": 75,
      "outputs": [
        {
          "output_type": "execute_result",
          "data": {
            "text/plain": [
              "XGBClassifier()"
            ]
          },
          "metadata": {},
          "execution_count": 75
        }
      ]
    },
    {
      "cell_type": "code",
      "source": [
        "y_pred = model.predict(X_test)\n",
        "preds = [round(value) for value in y_pred]\n",
        "\n",
        "accuracy_deep = metrics.accuracy_score(y_test, preds)\n",
        "print(accuracy_deep)"
      ],
      "metadata": {
        "colab": {
          "base_uri": "https://localhost:8080/"
        },
        "id": "0exX38leMc4P",
        "outputId": "fdca12f6-add4-48e8-9658-49cdbc7b3986"
      },
      "execution_count": 76,
      "outputs": [
        {
          "output_type": "stream",
          "name": "stdout",
          "text": [
            "0.6408317580340265\n"
          ]
        }
      ]
    },
    {
      "cell_type": "code",
      "source": [
        "accuracy_data = [[\"Random Forest Classifier\", rfc_short_acc, rfc_deep_acc], [\"XGBoost\", accuracy_short, accuracy_deep]]\n",
        "\n",
        "col_names = [\"Model\", \"Short Passes\", \"Long Passes\"]\n",
        "\n",
        "print(tabulate(accuracy_data, headers=col_names))\n"
      ],
      "metadata": {
        "colab": {
          "base_uri": "https://localhost:8080/"
        },
        "id": "6OTp7FqKMjwl",
        "outputId": "1fd100e8-68d8-49ef-bc40-12d8fb86f63e"
      },
      "execution_count": 86,
      "outputs": [
        {
          "output_type": "stream",
          "name": "stdout",
          "text": [
            "Model                       Short Passes    Long Passes\n",
            "------------------------  --------------  -------------\n",
            "Random Forest Classifier        0.787837       0.573409\n",
            "XGBoost                         0.823633       0.640832\n"
          ]
        }
      ]
    }
  ]
}